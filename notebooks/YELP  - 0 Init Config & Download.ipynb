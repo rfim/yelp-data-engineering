{
 "cells": [
  {
   "cell_type": "markdown",
   "metadata": {
    "application/vnd.databricks.v1+cell": {
     "cellMetadata": {
      "byteLimit": 2048000,
      "rowLimit": 10000
     },
     "inputWidgets": {},
     "nuid": "298cde39-26cc-45d4-be88-50f50efa0503",
     "showTitle": false,
     "tableResultSettingsMap": {},
     "title": ""
    }
   },
   "source": [
    "# Yelp Dataset - Kaggle Initialization & Configuration\n",
    "\n",
    "## Overview\n",
    "This notebook sets up the environment to download and manage the **Yelp Dataset** from Kaggle, using **Apache Spark, Delta Lake, and SQL metadata tables** for structured ingestion.\n",
    "\n",
    "## Steps in the Notebook\n",
    "\n",
    "### 1. Install Required Packages\n",
    "```python\n",
    "!pip install kagglehub[pandas-datasets]\n",
    "!pip install great-expectations\n",
    "\n"
   ]
  },
  {
   "cell_type": "code",
   "execution_count": 0,
   "metadata": {
    "application/vnd.databricks.v1+cell": {
     "cellMetadata": {
      "byteLimit": 2048000,
      "rowLimit": 10000
     },
     "inputWidgets": {},
     "nuid": "470ff8bb-87fa-4fe4-87fa-a0ddacb81c3b",
     "showTitle": false,
     "tableResultSettingsMap": {},
     "title": ""
    }
   },
   "outputs": [
    {
     "output_type": "stream",
     "name": "stdout",
     "output_type": "stream",
     "text": [
      "Requirement already satisfied: kagglehub[pandas-datasets] in /local_disk0/.ephemeral_nfs/envs/pythonEnv-a1a189f1-0c27-4447-b12e-be41f02f6ba1/lib/python3.9/site-packages (0.3.9)\r\nRequirement already satisfied: pyyaml in /local_disk0/.ephemeral_nfs/envs/pythonEnv-a1a189f1-0c27-4447-b12e-be41f02f6ba1/lib/python3.9/site-packages (from kagglehub[pandas-datasets]) (6.0.2)\r\nRequirement already satisfied: packaging in /databricks/python3/lib/python3.9/site-packages (from kagglehub[pandas-datasets]) (21.3)\r\nRequirement already satisfied: tqdm in /local_disk0/.ephemeral_nfs/envs/pythonEnv-a1a189f1-0c27-4447-b12e-be41f02f6ba1/lib/python3.9/site-packages (from kagglehub[pandas-datasets]) (4.67.1)\r\nRequirement already satisfied: requests in /databricks/python3/lib/python3.9/site-packages (from kagglehub[pandas-datasets]) (2.27.1)\r\nRequirement already satisfied: pandas in /databricks/python3/lib/python3.9/site-packages (from kagglehub[pandas-datasets]) (1.4.2)\r\nRequirement already satisfied: pyparsing!=3.0.5,>=2.0.2 in /databricks/python3/lib/python3.9/site-packages (from packaging->kagglehub[pandas-datasets]) (3.0.4)\r\nRequirement already satisfied: python-dateutil>=2.8.1 in /databricks/python3/lib/python3.9/site-packages (from pandas->kagglehub[pandas-datasets]) (2.8.2)\r\nRequirement already satisfied: numpy>=1.18.5 in /local_disk0/.ephemeral_nfs/envs/pythonEnv-a1a189f1-0c27-4447-b12e-be41f02f6ba1/lib/python3.9/site-packages (from pandas->kagglehub[pandas-datasets]) (1.22.4)\r\nRequirement already satisfied: pytz>=2020.1 in /databricks/python3/lib/python3.9/site-packages (from pandas->kagglehub[pandas-datasets]) (2021.3)\r\nRequirement already satisfied: six>=1.5 in /databricks/python3/lib/python3.9/site-packages (from python-dateutil>=2.8.1->pandas->kagglehub[pandas-datasets]) (1.16.0)\r\nRequirement already satisfied: charset-normalizer~=2.0.0 in /databricks/python3/lib/python3.9/site-packages (from requests->kagglehub[pandas-datasets]) (2.0.4)\r\nRequirement already satisfied: idna<4,>=2.5 in /databricks/python3/lib/python3.9/site-packages (from requests->kagglehub[pandas-datasets]) (3.3)\r\nRequirement already satisfied: certifi>=2017.4.17 in /databricks/python3/lib/python3.9/site-packages (from requests->kagglehub[pandas-datasets]) (2021.10.8)\r\nRequirement already satisfied: urllib3<1.27,>=1.21.1 in /databricks/python3/lib/python3.9/site-packages (from requests->kagglehub[pandas-datasets]) (1.26.9)\r\n\u001B[33mWARNING: You are using pip version 21.2.4; however, version 25.0.1 is available.\r\nYou should consider upgrading via the '/local_disk0/.ephemeral_nfs/envs/pythonEnv-a1a189f1-0c27-4447-b12e-be41f02f6ba1/bin/python -m pip install --upgrade pip' command.\u001B[0m\r\nRequirement already satisfied: great-expectations in /local_disk0/.ephemeral_nfs/envs/pythonEnv-a1a189f1-0c27-4447-b12e-be41f02f6ba1/lib/python3.9/site-packages (1.3.7)\r\nRequirement already satisfied: python-dateutil>=2.8.1 in /databricks/python3/lib/python3.9/site-packages (from great-expectations) (2.8.2)\r\nRequirement already satisfied: typing-extensions>=4.1.0 in /local_disk0/.ephemeral_nfs/envs/pythonEnv-a1a189f1-0c27-4447-b12e-be41f02f6ba1/lib/python3.9/site-packages (from great-expectations) (4.12.2)\r\nRequirement already satisfied: numpy>=1.21.6 in /local_disk0/.ephemeral_nfs/envs/pythonEnv-a1a189f1-0c27-4447-b12e-be41f02f6ba1/lib/python3.9/site-packages (from great-expectations) (1.22.4)\r\nRequirement already satisfied: tqdm>=4.59.0 in /local_disk0/.ephemeral_nfs/envs/pythonEnv-a1a189f1-0c27-4447-b12e-be41f02f6ba1/lib/python3.9/site-packages (from great-expectations) (4.67.1)\r\nRequirement already satisfied: mistune>=0.8.4 in /databricks/python3/lib/python3.9/site-packages (from great-expectations) (0.8.4)\r\nRequirement already satisfied: scipy>=1.6.0 in /databricks/python3/lib/python3.9/site-packages (from great-expectations) (1.7.3)\r\nRequirement already satisfied: pyparsing>=2.4 in /databricks/python3/lib/python3.9/site-packages (from great-expectations) (3.0.4)\r\nRequirement already satisfied: ruamel.yaml>=0.16 in /local_disk0/.ephemeral_nfs/envs/pythonEnv-a1a189f1-0c27-4447-b12e-be41f02f6ba1/lib/python3.9/site-packages (from great-expectations) (0.18.10)\r\nRequirement already satisfied: marshmallow<4.0.0,>=3.7.1 in /local_disk0/.ephemeral_nfs/envs/pythonEnv-a1a189f1-0c27-4447-b12e-be41f02f6ba1/lib/python3.9/site-packages (from great-expectations) (3.26.1)\r\nRequirement already satisfied: jsonschema>=2.5.1 in /databricks/python3/lib/python3.9/site-packages (from great-expectations) (4.4.0)\r\nRequirement already satisfied: requests>=2.20 in /databricks/python3/lib/python3.9/site-packages (from great-expectations) (2.27.1)\r\nRequirement already satisfied: tzlocal>=1.2 in /local_disk0/.ephemeral_nfs/envs/pythonEnv-a1a189f1-0c27-4447-b12e-be41f02f6ba1/lib/python3.9/site-packages (from great-expectations) (5.3)\r\nRequirement already satisfied: posthog<4,>3 in /local_disk0/.ephemeral_nfs/envs/pythonEnv-a1a189f1-0c27-4447-b12e-be41f02f6ba1/lib/python3.9/site-packages (from great-expectations) (3.15.1)\r\nRequirement already satisfied: pandas<2.2,>=1.1.3 in /databricks/python3/lib/python3.9/site-packages (from great-expectations) (1.4.2)\r\nRequirement already satisfied: packaging in /databricks/python3/lib/python3.9/site-packages (from great-expectations) (21.3)\r\nRequirement already satisfied: jinja2>=3 in /local_disk0/.ephemeral_nfs/envs/pythonEnv-a1a189f1-0c27-4447-b12e-be41f02f6ba1/lib/python3.9/site-packages (from great-expectations) (3.1.5)\r\nRequirement already satisfied: altair<5.0.0,>=4.2.1 in /local_disk0/.ephemeral_nfs/envs/pythonEnv-a1a189f1-0c27-4447-b12e-be41f02f6ba1/lib/python3.9/site-packages (from great-expectations) (4.2.2)\r\nRequirement already satisfied: cryptography>=3.2 in /databricks/python3/lib/python3.9/site-packages (from great-expectations) (3.4.8)\r\nRequirement already satisfied: pydantic>=1.10.7 in /local_disk0/.ephemeral_nfs/envs/pythonEnv-a1a189f1-0c27-4447-b12e-be41f02f6ba1/lib/python3.9/site-packages (from great-expectations) (2.10.6)\r\nRequirement already satisfied: toolz in /local_disk0/.ephemeral_nfs/envs/pythonEnv-a1a189f1-0c27-4447-b12e-be41f02f6ba1/lib/python3.9/site-packages (from altair<5.0.0,>=4.2.1->great-expectations) (1.0.0)\r\nRequirement already satisfied: entrypoints in /databricks/python3/lib/python3.9/site-packages (from altair<5.0.0,>=4.2.1->great-expectations) (0.4)\r\nRequirement already satisfied: cffi>=1.12 in /databricks/python3/lib/python3.9/site-packages (from cryptography>=3.2->great-expectations) (1.15.0)\r\nRequirement already satisfied: pycparser in /databricks/python3/lib/python3.9/site-packages (from cffi>=1.12->cryptography>=3.2->great-expectations) (2.21)\r\nRequirement already satisfied: MarkupSafe>=2.0 in /databricks/python3/lib/python3.9/site-packages (from jinja2>=3->great-expectations) (2.0.1)\r\nRequirement already satisfied: attrs>=17.4.0 in /databricks/python3/lib/python3.9/site-packages (from jsonschema>=2.5.1->great-expectations) (21.4.0)\r\nRequirement already satisfied: pyrsistent!=0.17.0,!=0.17.1,!=0.17.2,>=0.14.0 in /databricks/python3/lib/python3.9/site-packages (from jsonschema>=2.5.1->great-expectations) (0.18.0)\r\nRequirement already satisfied: pytz>=2020.1 in /databricks/python3/lib/python3.9/site-packages (from pandas<2.2,>=1.1.3->great-expectations) (2021.3)\r\nRequirement already satisfied: six>=1.5 in /databricks/python3/lib/python3.9/site-packages (from posthog<4,>3->great-expectations) (1.16.0)\r\nRequirement already satisfied: monotonic>=1.5 in /local_disk0/.ephemeral_nfs/envs/pythonEnv-a1a189f1-0c27-4447-b12e-be41f02f6ba1/lib/python3.9/site-packages (from posthog<4,>3->great-expectations) (1.6)\r\nRequirement already satisfied: backoff>=1.10.0 in /local_disk0/.ephemeral_nfs/envs/pythonEnv-a1a189f1-0c27-4447-b12e-be41f02f6ba1/lib/python3.9/site-packages (from posthog<4,>3->great-expectations) (2.2.1)\r\nRequirement already satisfied: annotated-types>=0.6.0 in /local_disk0/.ephemeral_nfs/envs/pythonEnv-a1a189f1-0c27-4447-b12e-be41f02f6ba1/lib/python3.9/site-packages (from pydantic>=1.10.7->great-expectations) (0.7.0)\r\nRequirement already satisfied: pydantic-core==2.27.2 in /local_disk0/.ephemeral_nfs/envs/pythonEnv-a1a189f1-0c27-4447-b12e-be41f02f6ba1/lib/python3.9/site-packages (from pydantic>=1.10.7->great-expectations) (2.27.2)\r\nRequirement already satisfied: charset-normalizer~=2.0.0 in /databricks/python3/lib/python3.9/site-packages (from requests>=2.20->great-expectations) (2.0.4)\r\nRequirement already satisfied: idna<4,>=2.5 in /databricks/python3/lib/python3.9/site-packages (from requests>=2.20->great-expectations) (3.3)\r\nRequirement already satisfied: certifi>=2017.4.17 in /databricks/python3/lib/python3.9/site-packages (from requests>=2.20->great-expectations) (2021.10.8)\r\nRequirement already satisfied: urllib3<1.27,>=1.21.1 in /databricks/python3/lib/python3.9/site-packages (from requests>=2.20->great-expectations) (1.26.9)\r\nRequirement already satisfied: ruamel.yaml.clib>=0.2.7 in /local_disk0/.ephemeral_nfs/envs/pythonEnv-a1a189f1-0c27-4447-b12e-be41f02f6ba1/lib/python3.9/site-packages (from ruamel.yaml>=0.16->great-expectations) (0.2.12)\r\n\u001B[33mWARNING: You are using pip version 21.2.4; however, version 25.0.1 is available.\r\nYou should consider upgrading via the '/local_disk0/.ephemeral_nfs/envs/pythonEnv-a1a189f1-0c27-4447-b12e-be41f02f6ba1/bin/python -m pip install --upgrade pip' command.\u001B[0m\r\n"
     ]
    }
   ],
   "source": [
    "!pip install kagglehub[pandas-datasets]\n",
    "!pip install great-expectations\n"
   ]
  },
  {
   "cell_type": "markdown",
   "metadata": {
    "application/vnd.databricks.v1+cell": {
     "cellMetadata": {
      "byteLimit": 2048000,
      "rowLimit": 10000
     },
     "inputWidgets": {},
     "nuid": "b2404e17-62be-4f9a-9267-fbaca23253e1",
     "showTitle": false,
     "tableResultSettingsMap": {},
     "title": ""
    }
   },
   "source": [
    "## Step 2: Import Libraries and Download Dataset\n",
    "To work with the **Yelp Dataset**"
   ]
  },
  {
   "cell_type": "code",
   "execution_count": 0,
   "metadata": {
    "application/vnd.databricks.v1+cell": {
     "cellMetadata": {
      "byteLimit": 2048000,
      "rowLimit": 10000
     },
     "inputWidgets": {},
     "nuid": "8e5d18d3-ea17-4b84-941a-7b017961a549",
     "showTitle": false,
     "tableResultSettingsMap": {},
     "title": ""
    }
   },
   "outputs": [
    {
     "output_type": "stream",
     "name": "stdout",
     "output_type": "stream",
     "text": [
      "Downloading from https://www.kaggle.com/api/v1/datasets/download/yelp-dataset/yelp-dataset?dataset_version_number=4...\n"
     ]
    },
    {
     "output_type": "stream",
     "name": "stderr",
     "output_type": "stream",
     "text": [
      "\r  0%|          | 0.00/4.07G [00:00<?, ?B/s]\r  0%|          | 5.00M/4.07G [00:00<01:23, 52.4MB/s]\r  0%|          | 13.0M/4.07G [00:00<01:04, 67.2MB/s]\r  1%|          | 22.0M/4.07G [00:00<00:54, 79.2MB/s]\r  1%|          | 31.0M/4.07G [00:00<00:53, 81.9MB/s]\r  1%|          | 43.0M/4.07G [00:00<00:52, 82.9MB/s]\r  1%|          | 51.0M/4.07G [00:00<00:52, 81.6MB/s]\r  2%|▏         | 66.0M/4.07G [00:00<00:42, 102MB/s] \r  2%|▏         | 76.0M/4.07G [00:00<00:51, 83.5MB/s]\r  2%|▏         | 91.0M/4.07G [00:01<00:42, 101MB/s] \r  2%|▏         | 102M/4.07G [00:01<00:44, 95.0MB/s]\r  3%|▎         | 114M/4.07G [00:01<00:42, 101MB/s] \r  3%|▎         | 128M/4.07G [00:01<00:38, 111MB/s]\r  3%|▎         | 141M/4.07G [00:01<00:36, 116MB/s]\r  4%|▎         | 156M/4.07G [00:01<00:33, 125MB/s]\r  4%|▍         | 169M/4.07G [00:01<00:34, 122MB/s]\r  4%|▍         | 183M/4.07G [00:01<00:33, 124MB/s]\r  5%|▍         | 195M/4.07G [00:02<00:51, 81.5MB/s]\r  5%|▍         | 206M/4.07G [00:02<00:47, 87.5MB/s]\r  5%|▌         | 220M/4.07G [00:02<00:41, 99.8MB/s]\r  6%|▌         | 231M/4.07G [00:02<00:40, 103MB/s] \r  6%|▌         | 247M/4.07G [00:02<00:34, 119MB/s]\r  6%|▌         | 260M/4.07G [00:02<00:36, 112MB/s]\r  7%|▋         | 276M/4.07G [00:02<00:32, 124MB/s]\r  7%|▋         | 289M/4.07G [00:02<00:37, 107MB/s]\r  7%|▋         | 301M/4.07G [00:03<00:38, 105MB/s]\r  8%|▊         | 313M/4.07G [00:03<00:36, 109MB/s]\r  8%|▊         | 324M/4.07G [00:03<00:39, 101MB/s]\r  8%|▊         | 340M/4.07G [00:03<00:34, 116MB/s]\r  8%|▊         | 352M/4.07G [00:03<00:34, 116MB/s]\r  9%|▉         | 370M/4.07G [00:03<00:29, 135MB/s]\r  9%|▉         | 384M/4.07G [00:03<00:39, 100MB/s]\r 10%|▉         | 397M/4.07G [00:04<00:36, 107MB/s]\r 10%|▉         | 409M/4.07G [00:04<00:36, 107MB/s]\r 10%|█         | 422M/4.07G [00:04<00:34, 114MB/s]\r 10%|█         | 436M/4.07G [00:04<00:32, 122MB/s]\r 11%|█         | 449M/4.07G [00:04<00:42, 90.9MB/s]\r 11%|█         | 463M/4.07G [00:04<00:38, 102MB/s] \r 11%|█▏        | 478M/4.07G [00:04<00:33, 115MB/s]\r 12%|█▏        | 496M/4.07G [00:04<00:29, 132MB/s]\r 12%|█▏        | 511M/4.07G [00:04<00:27, 137MB/s]\r 13%|█▎        | 525M/4.07G [00:05<00:34, 110MB/s]\r 13%|█▎        | 537M/4.07G [00:05<00:35, 109MB/s]\r 13%|█▎        | 549M/4.07G [00:05<00:34, 110MB/s]\r 13%|█▎        | 561M/4.07G [00:05<00:35, 108MB/s]\r 14%|█▎        | 573M/4.07G [00:05<00:33, 112MB/s]\r 14%|█▍        | 586M/4.07G [00:05<00:32, 117MB/s]\r 14%|█▍        | 599M/4.07G [00:05<00:33, 112MB/s]\r 15%|█▍        | 611M/4.07G [00:05<00:33, 112MB/s]\r 15%|█▍        | 623M/4.07G [00:06<00:39, 93.6MB/s]\r 15%|█▌        | 637M/4.07G [00:06<00:35, 105MB/s] \r 16%|█▌        | 649M/4.07G [00:06<00:33, 110MB/s]\r 16%|█▌        | 663M/4.07G [00:06<00:45, 80.3MB/s]\r 16%|█▌        | 676M/4.07G [00:06<00:40, 91.1MB/s]\r 17%|█▋        | 690M/4.07G [00:06<00:36, 101MB/s] \r 17%|█▋        | 709M/4.07G [00:06<00:29, 123MB/s]\r 17%|█▋        | 723M/4.07G [00:07<00:31, 115MB/s]\r 18%|█▊        | 736M/4.07G [00:07<00:49, 72.2MB/s]\r 18%|█▊        | 755M/4.07G [00:07<00:38, 93.9MB/s]\r 18%|█▊        | 771M/4.07G [00:07<00:33, 108MB/s] \r 19%|█▉        | 786M/4.07G [00:07<00:29, 119MB/s]\r 19%|█▉        | 800M/4.07G [00:07<00:29, 121MB/s]\r 20%|█▉        | 814M/4.07G [00:08<00:31, 111MB/s]\r 20%|█▉        | 826M/4.07G [00:08<00:40, 86.2MB/s]\r 20%|██        | 842M/4.07G [00:08<00:34, 103MB/s] \r 20%|██        | 854M/4.07G [00:08<00:32, 106MB/s]\r 21%|██        | 866M/4.07G [00:08<00:32, 107MB/s]\r 21%|██        | 878M/4.07G [00:08<00:45, 75.4MB/s]\r 21%|██▏       | 896M/4.07G [00:09<00:35, 96.7MB/s]\r 22%|██▏       | 911M/4.07G [00:09<00:31, 109MB/s] \r 22%|██▏       | 924M/4.07G [00:09<00:32, 105MB/s]\r 22%|██▏       | 938M/4.07G [00:09<00:30, 110MB/s]\r 23%|██▎       | 953M/4.07G [00:09<00:28, 120MB/s]\r 23%|██▎       | 969M/4.07G [00:09<00:25, 132MB/s]\r 24%|██▎       | 983M/4.07G [00:09<00:34, 97.4MB/s]\r 24%|██▍       | 999M/4.07G [00:09<00:30, 109MB/s] \r 24%|██▍       | 0.99G/4.07G [00:10<00:29, 112MB/s]\r 25%|██▍       | 1.00G/4.07G [00:10<00:28, 114MB/s]\r 25%|██▍       | 1.02G/4.07G [00:10<00:26, 125MB/s]\r 25%|██▌       | 1.03G/4.07G [00:10<00:25, 128MB/s]\r 26%|██▌       | 1.04G/4.07G [00:10<00:27, 120MB/s]\r 26%|██▌       | 1.06G/4.07G [00:10<00:27, 116MB/s]\r 26%|██▋       | 1.07G/4.07G [00:10<00:25, 127MB/s]\r 27%|██▋       | 1.09G/4.07G [00:10<00:25, 126MB/s]\r 27%|██▋       | 1.10G/4.07G [00:11<00:31, 102MB/s]\r 27%|██▋       | 1.11G/4.07G [00:11<00:28, 113MB/s]\r 28%|██▊       | 1.13G/4.07G [00:11<00:29, 109MB/s]\r 28%|██▊       | 1.14G/4.07G [00:11<00:38, 81.3MB/s]\r 28%|██▊       | 1.15G/4.07G [00:11<00:33, 93.6MB/s]\r 29%|██▊       | 1.16G/4.07G [00:11<00:29, 105MB/s] \r 29%|██▉       | 1.18G/4.07G [00:11<00:31, 99.5MB/s]\r 29%|██▉       | 1.19G/4.07G [00:12<00:27, 113MB/s] \r 30%|██▉       | 1.21G/4.07G [00:12<00:24, 126MB/s]\r 30%|███       | 1.23G/4.07G [00:12<00:21, 144MB/s]\r 30%|███       | 1.24G/4.07G [00:12<00:20, 146MB/s]\r 31%|███       | 1.25G/4.07G [00:12<00:32, 92.0MB/s]\r 31%|███       | 1.27G/4.07G [00:12<00:28, 104MB/s] \r 31%|███▏      | 1.28G/4.07G [00:12<00:27, 109MB/s]\r 32%|███▏      | 1.30G/4.07G [00:13<00:35, 82.9MB/s]\r 32%|███▏      | 1.31G/4.07G [00:13<00:31, 93.3MB/s]\r 33%|███▎      | 1.33G/4.07G [00:13<00:27, 106MB/s] \r 33%|███▎      | 1.34G/4.07G [00:13<00:23, 122MB/s]\r 33%|███▎      | 1.36G/4.07G [00:13<00:22, 130MB/s]\r 34%|███▎      | 1.37G/4.07G [00:13<00:23, 123MB/s]\r 34%|███▍      | 1.39G/4.07G [00:13<00:20, 140MB/s]\r 34%|███▍      | 1.41G/4.07G [00:14<00:22, 130MB/s]\r 35%|███▍      | 1.42G/4.07G [00:14<00:23, 120MB/s]\r 35%|███▌      | 1.43G/4.07G [00:14<00:24, 116MB/s]\r 35%|███▌      | 1.44G/4.07G [00:14<00:24, 116MB/s]\r 36%|███▌      | 1.46G/4.07G [00:14<00:25, 112MB/s]\r 36%|███▌      | 1.47G/4.07G [00:14<00:26, 107MB/s]\r 36%|███▌      | 1.48G/4.07G [00:14<00:25, 109MB/s]\r 37%|███▋      | 1.49G/4.07G [00:14<00:25, 110MB/s]\r 37%|███▋      | 1.50G/4.07G [00:14<00:25, 107MB/s]\r 37%|███▋      | 1.51G/4.07G [00:15<00:27, 99.8MB/s]\r 37%|███▋      | 1.52G/4.07G [00:15<00:25, 107MB/s] \r 38%|███▊      | 1.53G/4.07G [00:15<00:25, 109MB/s]\r 38%|███▊      | 1.54G/4.07G [00:15<00:25, 106MB/s]\r 38%|███▊      | 1.55G/4.07G [00:15<00:31, 87.0MB/s]\r 38%|███▊      | 1.57G/4.07G [00:15<00:26, 101MB/s] \r 39%|███▉      | 1.58G/4.07G [00:15<00:24, 110MB/s]\r 39%|███▉      | 1.59G/4.07G [00:16<00:28, 92.9MB/s]\r 39%|███▉      | 1.60G/4.07G [00:16<00:32, 80.6MB/s]\r 40%|███▉      | 1.61G/4.07G [00:16<00:37, 71.1MB/s]\r 40%|███▉      | 1.62G/4.07G [00:16<00:37, 70.8MB/s]\r 40%|███▉      | 1.63G/4.07G [00:16<00:39, 66.1MB/s]\r 40%|████      | 1.63G/4.07G [00:16<00:41, 62.6MB/s]\r 40%|████      | 1.64G/4.07G [00:16<00:42, 61.7MB/s]\r 40%|████      | 1.65G/4.07G [00:17<00:43, 60.0MB/s]\r 41%|████      | 1.65G/4.07G [00:17<00:43, 59.5MB/s]\r 41%|████      | 1.66G/4.07G [00:17<00:45, 57.6MB/s]\r 41%|████      | 1.67G/4.07G [00:17<00:45, 57.0MB/s]\r 41%|████      | 1.67G/4.07G [00:17<00:51, 50.4MB/s]\r 41%|████▏     | 1.68G/4.07G [00:17<00:40, 63.4MB/s]\r 41%|████▏     | 1.69G/4.07G [00:17<00:42, 60.6MB/s]\r 42%|████▏     | 1.70G/4.07G [00:17<00:42, 60.7MB/s]\r 42%|████▏     | 1.70G/4.07G [00:18<00:41, 60.7MB/s]\r 42%|████▏     | 1.71G/4.07G [00:18<00:42, 59.9MB/s]\r 42%|████▏     | 1.72G/4.07G [00:18<00:42, 60.1MB/s]\r 42%|████▏     | 1.72G/4.07G [00:18<00:41, 61.1MB/s]\r 42%|████▏     | 1.73G/4.07G [00:18<00:41, 61.0MB/s]\r 43%|████▎     | 1.73G/4.07G [00:18<00:42, 59.7MB/s]\r 43%|████▎     | 1.74G/4.07G [00:18<00:39, 63.3MB/s]\r 43%|████▎     | 1.75G/4.07G [00:18<00:40, 61.3MB/s]\r 43%|████▎     | 1.75G/4.07G [00:18<00:40, 61.1MB/s]\r 43%|████▎     | 1.76G/4.07G [00:19<00:39, 62.3MB/s]\r 43%|████▎     | 1.77G/4.07G [00:19<00:39, 62.0MB/s]\r 44%|████▎     | 1.77G/4.07G [00:19<00:39, 61.8MB/s]\r 44%|████▎     | 1.78G/4.07G [00:19<00:39, 62.8MB/s]\r 44%|████▍     | 1.79G/4.07G [00:19<00:39, 61.7MB/s]\r 44%|████▍     | 1.79G/4.07G [00:19<00:38, 62.9MB/s]\r 44%|████▍     | 1.80G/4.07G [00:19<00:38, 63.7MB/s]\r 44%|████▍     | 1.81G/4.07G [00:19<00:39, 62.3MB/s]\r 45%|████▍     | 1.81G/4.07G [00:19<00:39, 62.1MB/s]\r 45%|████▍     | 1.82G/4.07G [00:20<00:37, 63.9MB/s]\r 45%|████▍     | 1.83G/4.07G [00:20<00:38, 62.4MB/s]\r 45%|████▌     | 1.83G/4.07G [00:20<00:38, 62.1MB/s]\r 45%|████▌     | 1.84G/4.07G [00:20<00:38, 61.9MB/s]\r 45%|████▌     | 1.85G/4.07G [00:20<00:36, 64.8MB/s]\r 46%|████▌     | 1.86G/4.07G [00:20<00:37, 63.1MB/s]\r 46%|████▌     | 1.86G/4.07G [00:20<00:37, 63.3MB/s]\r 46%|████▌     | 1.87G/4.07G [00:20<00:38, 61.2MB/s]\r 46%|████▌     | 1.88G/4.07G [00:21<00:38, 61.9MB/s]\r 46%|████▌     | 1.88G/4.07G [00:21<00:37, 63.6MB/s]\r 46%|████▋     | 1.89G/4.07G [00:21<00:36, 63.6MB/s]\r 47%|████▋     | 1.90G/4.07G [00:21<00:39, 59.9MB/s]\r 47%|████▋     | 1.90G/4.07G [00:21<00:42, 54.7MB/s]\r 47%|████▋     | 1.91G/4.07G [00:21<00:41, 56.1MB/s]\r 47%|████▋     | 1.92G/4.07G [00:21<00:40, 56.7MB/s]\r 47%|████▋     | 1.92G/4.07G [00:21<00:44, 52.4MB/s]\r 47%|████▋     | 1.93G/4.07G [00:22<00:46, 50.0MB/s]\r 47%|████▋     | 1.93G/4.07G [00:22<00:44, 51.1MB/s]\r 48%|████▊     | 1.94G/4.07G [00:22<00:46, 49.0MB/s]\r 48%|████▊     | 1.94G/4.07G [00:22<00:47, 48.0MB/s]\r 48%|████▊     | 1.95G/4.07G [00:22<00:51, 44.7MB/s]\r 48%|████▊     | 1.96G/4.07G [00:22<00:35, 63.5MB/s]\r 48%|████▊     | 1.97G/4.07G [00:22<00:35, 64.1MB/s]\r 48%|████▊     | 1.97G/4.07G [00:22<00:34, 64.5MB/s]\r 49%|████▊     | 1.98G/4.07G [00:23<00:35, 63.3MB/s]\r 49%|████▊     | 1.99G/4.07G [00:23<00:35, 63.6MB/s]\r 49%|████▉     | 1.99G/4.07G [00:23<00:33, 66.1MB/s]\r 49%|████▉     | 2.00G/4.07G [00:23<00:33, 65.9MB/s]\r 49%|████▉     | 2.01G/4.07G [00:23<00:36, 61.2MB/s]\r 49%|████▉     | 2.01G/4.07G [00:23<00:33, 65.3MB/s]\r 50%|████▉     | 2.02G/4.07G [00:23<00:33, 65.9MB/s]\r 50%|████▉     | 2.03G/4.07G [00:23<00:33, 66.4MB/s]\r 50%|████▉     | 2.04G/4.07G [00:23<00:32, 66.9MB/s]\r 50%|█████     | 2.04G/4.07G [00:24<00:33, 65.7MB/s]\r 50%|█████     | 2.05G/4.07G [00:24<00:33, 65.2MB/s]\r 50%|█████     | 2.06G/4.07G [00:24<00:37, 58.2MB/s]\r 51%|█████     | 2.07G/4.07G [00:24<00:32, 67.4MB/s]\r 51%|█████     | 2.07G/4.07G [00:24<00:32, 66.6MB/s]\r 51%|█████     | 2.08G/4.07G [00:24<00:32, 66.1MB/s]\r 51%|█████     | 2.09G/4.07G [00:24<00:32, 66.5MB/s]\r 51%|█████▏    | 2.09G/4.07G [00:24<00:31, 67.6MB/s]\r 52%|█████▏    | 2.10G/4.07G [00:24<00:32, 64.9MB/s]\r 52%|█████▏    | 2.11G/4.07G [00:25<00:31, 67.2MB/s]\r 52%|█████▏    | 2.11G/4.07G [00:25<00:31, 66.7MB/s]\r 52%|█████▏    | 2.12G/4.07G [00:25<00:32, 64.9MB/s]\r 52%|█████▏    | 2.13G/4.07G [00:25<00:32, 65.2MB/s]\r 52%|█████▏    | 2.13G/4.07G [00:25<00:32, 64.1MB/s]\r 53%|█████▎    | 2.14G/4.07G [00:25<00:31, 66.1MB/s]\r 53%|█████▎    | 2.15G/4.07G [00:25<00:31, 65.2MB/s]\r 53%|█████▎    | 2.15G/4.07G [00:25<00:30, 67.0MB/s]\r 53%|█████▎    | 2.16G/4.07G [00:25<00:31, 65.8MB/s]\r 53%|█████▎    | 2.17G/4.07G [00:26<00:31, 65.8MB/s]\r 53%|█████▎    | 2.17G/4.07G [00:26<00:31, 65.1MB/s]\r 54%|█████▎    | 2.18G/4.07G [00:26<00:31, 65.1MB/s]\r 54%|█████▎    | 2.19G/4.07G [00:26<00:30, 66.7MB/s]\r 54%|█████▍    | 2.20G/4.07G [00:26<00:30, 66.3MB/s]\r 54%|█████▍    | 2.20G/4.07G [00:26<00:30, 66.0MB/s]\r 54%|█████▍    | 2.21G/4.07G [00:26<00:31, 64.6MB/s]\r 54%|█████▍    | 2.22G/4.07G [00:26<00:31, 64.3MB/s]\r 55%|█████▍    | 2.22G/4.07G [00:26<00:30, 66.0MB/s]\r 55%|█████▍    | 2.23G/4.07G [00:27<00:29, 66.5MB/s]\r 55%|█████▍    | 2.24G/4.07G [00:27<00:29, 66.2MB/s]\r 55%|█████▌    | 2.24G/4.07G [00:27<00:30, 64.8MB/s]\r 55%|█████▌    | 2.25G/4.07G [00:27<00:30, 64.9MB/s]\r 55%|█████▌    | 2.26G/4.07G [00:27<00:29, 65.1MB/s]\r 56%|█████▌    | 2.26G/4.07G [00:27<00:30, 63.3MB/s]\r 56%|█████▌    | 2.27G/4.07G [00:27<00:31, 60.7MB/s]\r 56%|█████▌    | 2.28G/4.07G [00:27<00:34, 56.0MB/s]\r 56%|█████▌    | 2.28G/4.07G [00:28<00:36, 53.0MB/s]\r 56%|█████▌    | 2.29G/4.07G [00:28<00:34, 55.3MB/s]\r 56%|█████▋    | 2.29G/4.07G [00:28<00:35, 53.4MB/s]\r 56%|█████▋    | 2.30G/4.07G [00:28<00:36, 51.7MB/s]\r 57%|█████▋    | 2.31G/4.07G [00:28<00:34, 55.5MB/s]\r 57%|█████▋    | 2.31G/4.07G [00:28<00:37, 50.1MB/s]\r 57%|█████▋    | 2.32G/4.07G [00:28<00:37, 50.6MB/s]\r 57%|█████▋    | 2.32G/4.07G [00:28<00:39, 47.2MB/s]\r 57%|█████▋    | 2.33G/4.07G [00:29<00:43, 43.1MB/s]\r 57%|█████▋    | 2.33G/4.07G [00:29<00:46, 40.1MB/s]\r 57%|█████▋    | 2.34G/4.07G [00:29<00:41, 44.9MB/s]\r 58%|█████▊    | 2.34G/4.07G [00:29<00:38, 47.7MB/s]\r 58%|█████▊    | 2.35G/4.07G [00:29<00:39, 47.2MB/s]\r 58%|█████▊    | 2.36G/4.07G [00:29<00:35, 51.8MB/s]\r 58%|█████▊    | 2.36G/4.07G [00:29<00:46, 39.7MB/s]\r 58%|█████▊    | 2.37G/4.07G [00:30<00:36, 50.8MB/s]\r 58%|█████▊    | 2.38G/4.07G [00:30<00:31, 58.6MB/s]\r 59%|█████▊    | 2.39G/4.07G [00:30<00:34, 51.9MB/s]\r 59%|█████▊    | 2.39G/4.07G [00:30<00:34, 51.6MB/s]\r 59%|█████▉    | 2.40G/4.07G [00:30<00:33, 53.2MB/s]\r 59%|█████▉    | 2.41G/4.07G [00:30<00:34, 51.9MB/s]\r 59%|█████▉    | 2.41G/4.07G [00:30<00:33, 52.5MB/s]\r 59%|█████▉    | 2.42G/4.07G [00:30<00:35, 50.3MB/s]\r 59%|█████▉    | 2.42G/4.07G [00:31<00:34, 51.1MB/s]\r 60%|█████▉    | 2.43G/4.07G [00:31<00:34, 50.6MB/s]\r 60%|█████▉    | 2.43G/4.07G [00:31<00:35, 49.5MB/s]\r 60%|█████▉    | 2.44G/4.07G [00:31<00:35, 48.9MB/s]\r 60%|█████▉    | 2.44G/4.07G [00:31<00:35, 49.9MB/s]\r 60%|██████    | 2.45G/4.07G [00:31<00:35, 49.6MB/s]\r 60%|██████    | 2.45G/4.07G [00:31<00:35, 48.9MB/s]\r 60%|██████    | 2.46G/4.07G [00:31<00:33, 52.5MB/s]\r 61%|██████    | 2.47G/4.07G [00:32<00:31, 55.2MB/s]\r 61%|██████    | 2.47G/4.07G [00:32<00:32, 52.3MB/s]\r 61%|██████    | 2.48G/4.07G [00:32<00:33, 50.8MB/s]\r 61%|██████    | 2.48G/4.07G [00:32<00:41, 41.2MB/s]\r 61%|██████    | 2.49G/4.07G [00:32<00:33, 50.3MB/s]\r 61%|██████▏   | 2.50G/4.07G [00:32<00:33, 50.9MB/s]\r 61%|██████▏   | 2.50G/4.07G [00:33<00:46, 36.0MB/s]\r 62%|██████▏   | 2.51G/4.07G [00:33<00:56, 29.9MB/s]\r 62%|██████▏   | 2.52G/4.07G [00:33<00:41, 40.2MB/s]\r 62%|██████▏   | 2.52G/4.07G [00:33<00:36, 46.0MB/s]\r 62%|██████▏   | 2.53G/4.07G [00:33<00:41, 40.0MB/s]\r 62%|██████▏   | 2.54G/4.07G [00:33<00:33, 49.7MB/s]\r 63%|██████▎   | 2.56G/4.07G [00:33<00:22, 73.0MB/s]\r 63%|██████▎   | 2.57G/4.07G [00:34<00:18, 87.2MB/s]\r 63%|██████▎   | 2.58G/4.07G [00:34<00:22, 69.9MB/s]\r 63%|██████▎   | 2.59G/4.07G [00:34<00:27, 58.8MB/s]\r 64%|██████▎   | 2.59G/4.07G [00:34<00:29, 53.7MB/s]\r 64%|██████▍   | 2.60G/4.07G [00:34<00:30, 51.6MB/s]\r 64%|██████▍   | 2.61G/4.07G [00:34<00:31, 49.4MB/s]\r 64%|██████▍   | 2.61G/4.07G [00:35<00:31, 50.2MB/s]\r 64%|██████▍   | 2.62G/4.07G [00:35<00:29, 52.6MB/s]\r 64%|██████▍   | 2.62G/4.07G [00:35<00:27, 57.0MB/s]\r 65%|██████▍   | 2.63G/4.07G [00:35<00:29, 52.1MB/s]\r 65%|██████▍   | 2.64G/4.07G [00:35<00:30, 50.4MB/s]\r 65%|██████▍   | 2.64G/4.07G [00:35<00:29, 52.9MB/s]\r 65%|██████▍   | 2.65G/4.07G [00:35<00:29, 52.8MB/s]\r 65%|██████▌   | 2.65G/4.07G [00:35<00:29, 51.1MB/s]\r 65%|██████▌   | 2.66G/4.07G [00:36<00:31, 48.1MB/s]\r 65%|██████▌   | 2.66G/4.07G [00:36<00:29, 51.3MB/s]\r 66%|██████▌   | 2.67G/4.07G [00:36<00:29, 51.1MB/s]\r 66%|██████▌   | 2.68G/4.07G [00:36<00:27, 54.8MB/s]\r 66%|██████▌   | 2.68G/4.07G [00:36<00:28, 52.3MB/s]\r 66%|██████▌   | 2.69G/4.07G [00:36<00:27, 54.0MB/s]\r 66%|██████▌   | 2.69G/4.07G [00:36<00:28, 51.4MB/s]\r 66%|██████▌   | 2.70G/4.07G [00:36<00:31, 46.9MB/s]\r 66%|██████▋   | 2.70G/4.07G [00:37<00:32, 45.1MB/s]\r 66%|██████▋   | 2.71G/4.07G [00:37<00:33, 43.4MB/s]\r 67%|██████▋   | 2.71G/4.07G [00:37<00:32, 45.3MB/s]\r 67%|██████▋   | 2.72G/4.07G [00:37<00:30, 47.3MB/s]\r 67%|██████▋   | 2.72G/4.07G [00:37<00:29, 49.9MB/s]\r 67%|██████▋   | 2.73G/4.07G [00:37<00:28, 50.2MB/s]\r 67%|██████▋   | 2.74G/4.07G [00:37<00:31, 45.9MB/s]\r 67%|██████▋   | 2.74G/4.07G [00:37<00:30, 47.5MB/s]\r 67%|██████▋   | 2.75G/4.07G [00:38<00:28, 50.1MB/s]\r 68%|██████▊   | 2.75G/4.07G [00:38<00:29, 48.1MB/s]\r 68%|██████▊   | 2.76G/4.07G [00:38<00:28, 49.4MB/s]\r 68%|██████▊   | 2.76G/4.07G [00:38<00:26, 53.9MB/s]\r 68%|██████▊   | 2.77G/4.07G [00:38<00:26, 53.4MB/s]\r 68%|██████▊   | 2.78G/4.07G [00:38<00:26, 52.9MB/s]\r 68%|██████▊   | 2.78G/4.07G [00:38<00:26, 53.2MB/s]\r 68%|██████▊   | 2.79G/4.07G [00:38<00:26, 53.0MB/s]\r 69%|██████▊   | 2.79G/4.07G [00:38<00:26, 51.8MB/s]\r 69%|██████▊   | 2.80G/4.07G [00:39<00:27, 50.4MB/s]\r 69%|██████▉   | 2.80G/4.07G [00:39<00:28, 47.9MB/s]\r 69%|██████▉   | 2.81G/4.07G [00:39<00:28, 48.3MB/s]\r 69%|██████▉   | 2.81G/4.07G [00:39<00:29, 46.4MB/s]\r 69%|██████▉   | 2.82G/4.07G [00:39<00:32, 41.5MB/s]\r 69%|██████▉   | 2.82G/4.07G [00:39<00:33, 40.6MB/s]\r 69%|██████▉   | 2.83G/4.07G [00:39<00:30, 43.2MB/s]\r 70%|██████▉   | 2.83G/4.07G [00:39<00:30, 43.2MB/s]\r 70%|██████▉   | 2.84G/4.07G [00:40<00:29, 44.7MB/s]\r 70%|██████▉   | 2.84G/4.07G [00:40<00:27, 48.9MB/s]\r 70%|██████▉   | 2.85G/4.07G [00:40<00:28, 46.4MB/s]\r 70%|███████   | 2.86G/4.07G [00:40<00:25, 52.2MB/s]\r 70%|███████   | 2.86G/4.07G [00:40<00:26, 49.7MB/s]\r 70%|███████   | 2.87G/4.07G [00:40<00:25, 50.7MB/s]\r 71%|███████   | 2.87G/4.07G [00:40<00:26, 49.0MB/s]\r 71%|███████   | 2.88G/4.07G [00:40<00:26, 47.9MB/s]\r 71%|███████   | 2.89G/4.07G [00:41<00:22, 55.7MB/s]\r 71%|███████   | 2.89G/4.07G [00:41<00:22, 55.9MB/s]\r 71%|███████   | 2.90G/4.07G [00:41<00:24, 51.2MB/s]\r 71%|███████   | 2.90G/4.07G [00:41<00:25, 49.5MB/s]\r 71%|███████▏  | 2.91G/4.07G [00:41<00:23, 52.3MB/s]\r 72%|███████▏  | 2.92G/4.07G [00:41<00:23, 53.5MB/s]\r 72%|███████▏  | 2.92G/4.07G [00:41<00:23, 52.1MB/s]\r 72%|███████▏  | 2.93G/4.07G [00:41<00:24, 49.7MB/s]\r 72%|███████▏  | 2.93G/4.07G [00:42<00:24, 49.9MB/s]\r 72%|███████▏  | 2.94G/4.07G [00:42<00:23, 51.8MB/s]\r 72%|███████▏  | 2.94G/4.07G [00:42<00:22, 53.8MB/s]\r 72%|███████▏  | 2.95G/4.07G [00:42<00:22, 53.1MB/s]\r 73%|███████▎  | 2.96G/4.07G [00:42<00:24, 49.7MB/s]\r 73%|███████▎  | 2.96G/4.07G [00:42<00:22, 52.2MB/s]\r 73%|███████▎  | 2.97G/4.07G [00:42<00:23, 50.3MB/s]\r 73%|███████▎  | 2.97G/4.07G [00:42<00:25, 46.6MB/s]\r 73%|███████▎  | 2.98G/4.07G [00:43<00:25, 46.6MB/s]\r 73%|███████▎  | 2.98G/4.07G [00:43<00:24, 47.7MB/s]\r 73%|███████▎  | 2.99G/4.07G [00:43<00:23, 48.9MB/s]\r 73%|███████▎  | 2.99G/4.07G [00:43<00:23, 49.2MB/s]\r 74%|███████▎  | 3.00G/4.07G [00:43<00:19, 58.6MB/s]\r 74%|███████▎  | 3.00G/4.07G [00:43<00:22, 51.4MB/s]\r 74%|███████▍  | 3.01G/4.07G [00:43<00:20, 55.4MB/s]\r 74%|███████▍  | 3.02G/4.07G [00:43<00:21, 52.0MB/s]\r 74%|███████▍  | 3.02G/4.07G [00:43<00:21, 52.1MB/s]\r 74%|███████▍  | 3.03G/4.07G [00:44<00:25, 43.4MB/s]\r 75%|███████▍  | 3.04G/4.07G [00:44<00:19, 57.1MB/s]\r 75%|███████▍  | 3.05G/4.07G [00:44<00:19, 55.6MB/s]\r 75%|███████▍  | 3.05G/4.07G [00:44<00:20, 52.4MB/s]\r 75%|███████▌  | 3.06G/4.07G [00:44<00:21, 50.6MB/s]\r 75%|███████▌  | 3.06G/4.07G [00:44<00:22, 48.8MB/s]\r 75%|███████▌  | 3.07G/4.07G [00:44<00:22, 47.3MB/s]\r 75%|███████▌  | 3.08G/4.07G [00:45<00:20, 52.7MB/s]\r 76%|███████▌  | 3.08G/4.07G [00:45<00:21, 49.7MB/s]\r 76%|███████▌  | 3.09G/4.07G [00:45<00:22, 47.9MB/s]\r 76%|███████▌  | 3.09G/4.07G [00:45<00:20, 51.5MB/s]\r 76%|███████▌  | 3.10G/4.07G [00:45<00:19, 54.2MB/s]\r 76%|███████▌  | 3.11G/4.07G [00:45<00:18, 56.2MB/s]\r 76%|███████▋  | 3.11G/4.07G [00:45<00:19, 52.5MB/s]\r 77%|███████▋  | 3.12G/4.07G [00:45<00:19, 51.6MB/s]\r 77%|███████▋  | 3.12G/4.07G [00:46<00:19, 53.5MB/s]\r 77%|███████▋  | 3.13G/4.07G [00:46<00:19, 52.5MB/s]\r 77%|███████▋  | 3.13G/4.07G [00:46<00:19, 50.5MB/s]\r 77%|███████▋  | 3.14G/4.07G [00:46<00:20, 50.0MB/s]\r 77%|███████▋  | 3.15G/4.07G [00:46<00:19, 52.3MB/s]\r 77%|███████▋  | 3.15G/4.07G [00:46<00:18, 53.4MB/s]\r 78%|███████▊  | 3.16G/4.07G [00:46<00:17, 56.9MB/s]\r 78%|███████▊  | 3.16G/4.07G [00:46<00:18, 51.8MB/s]\r 78%|███████▊  | 3.17G/4.07G [00:46<00:17, 54.1MB/s]\r 78%|███████▊  | 3.18G/4.07G [00:47<00:18, 52.6MB/s]\r 78%|███████▊  | 3.18G/4.07G [00:47<00:18, 52.0MB/s]\r 78%|███████▊  | 3.19G/4.07G [00:47<00:18, 51.6MB/s]\r 78%|███████▊  | 3.19G/4.07G [00:47<00:18, 52.5MB/s]\r 79%|███████▊  | 3.20G/4.07G [00:47<00:17, 53.5MB/s]\r 79%|███████▊  | 3.21G/4.07G [00:47<00:17, 53.1MB/s]\r 79%|███████▉  | 3.21G/4.07G [00:47<00:16, 56.6MB/s]\r 79%|███████▉  | 3.22G/4.07G [00:47<00:16, 54.8MB/s]\r 79%|███████▉  | 3.22G/4.07G [00:48<00:17, 53.6MB/s]\r 79%|███████▉  | 3.23G/4.07G [00:48<00:17, 50.8MB/s]\r 79%|███████▉  | 3.23G/4.07G [00:48<00:18, 48.7MB/s]\r 80%|███████▉  | 3.24G/4.07G [00:48<00:17, 50.3MB/s]\r 80%|███████▉  | 3.25G/4.07G [00:48<00:17, 52.0MB/s]\r 80%|███████▉  | 3.25G/4.07G [00:48<00:17, 51.3MB/s]\r 80%|███████▉  | 3.26G/4.07G [00:48<00:17, 49.3MB/s]\r 80%|████████  | 3.26G/4.07G [00:48<00:15, 54.9MB/s]\r 80%|████████  | 3.27G/4.07G [00:49<00:19, 44.0MB/s]\r 80%|████████  | 3.28G/4.07G [00:49<00:15, 56.6MB/s]\r 81%|████████  | 3.28G/4.07G [00:49<00:19, 44.0MB/s]\r 81%|████████  | 3.30G/4.07G [00:49<00:13, 60.8MB/s]\r 81%|████████  | 3.30G/4.07G [00:49<00:15, 53.6MB/s]\r 81%|████████  | 3.31G/4.07G [00:49<00:16, 49.3MB/s]\r 81%|████████▏ | 3.32G/4.07G [00:49<00:13, 58.8MB/s]\r 82%|████████▏ | 3.33G/4.07G [00:50<00:14, 53.8MB/s]\r 82%|████████▏ | 3.33G/4.07G [00:50<00:17, 46.5MB/s]\r 82%|████████▏ | 3.34G/4.07G [00:50<00:13, 57.3MB/s]\r 82%|████████▏ | 3.35G/4.07G [00:50<00:14, 53.2MB/s]\r 82%|████████▏ | 3.35G/4.07G [00:50<00:14, 53.1MB/s]\r 82%|████████▏ | 3.36G/4.07G [00:50<00:18, 41.8MB/s]\r 83%|████████▎ | 3.37G/4.07G [00:51<00:14, 51.9MB/s]\r 83%|████████▎ | 3.38G/4.07G [00:51<00:13, 55.6MB/s]\r 83%|████████▎ | 3.39G/4.07G [00:51<00:16, 45.3MB/s]\r 83%|████████▎ | 3.40G/4.07G [00:51<00:14, 48.7MB/s]\r 84%|████████▎ | 3.40G/4.07G [00:51<00:14, 50.9MB/s]\r 84%|████████▎ | 3.41G/4.07G [00:51<00:13, 52.5MB/s]\r 84%|████████▍ | 3.41G/4.07G [00:52<00:13, 52.1MB/s]\r 84%|████████▍ | 3.42G/4.07G [00:52<00:13, 50.8MB/s]\r 84%|████████▍ | 3.43G/4.07G [00:52<00:13, 53.6MB/s]\r 84%|████████▍ | 3.43G/4.07G [00:52<00:13, 52.4MB/s]\r 84%|████████▍ | 3.44G/4.07G [00:52<00:14, 47.3MB/s]\r 85%|████████▍ | 3.44G/4.07G [00:52<00:13, 50.6MB/s]\r 85%|████████▍ | 3.45G/4.07G [00:52<00:13, 49.1MB/s]\r 85%|████████▍ | 3.45G/4.07G [00:52<00:15, 43.5MB/s]\r 85%|████████▍ | 3.46G/4.07G [00:53<00:11, 56.3MB/s]\r 85%|████████▌ | 3.47G/4.07G [00:53<00:12, 53.3MB/s]\r 85%|████████▌ | 3.47G/4.07G [00:53<00:13, 49.5MB/s]\r 85%|████████▌ | 3.48G/4.07G [00:53<00:13, 48.1MB/s]\r 86%|████████▌ | 3.48G/4.07G [00:53<00:14, 45.1MB/s]\r 86%|████████▌ | 3.49G/4.07G [00:53<00:14, 42.8MB/s]\r 86%|████████▌ | 3.50G/4.07G [00:53<00:13, 45.9MB/s]\r 86%|████████▌ | 3.50G/4.07G [00:53<00:13, 44.1MB/s]\r 86%|████████▌ | 3.51G/4.07G [00:54<00:12, 47.2MB/s]\r 86%|████████▌ | 3.51G/4.07G [00:54<00:12, 48.1MB/s]\r 86%|████████▋ | 3.52G/4.07G [00:54<00:12, 48.1MB/s]\r 86%|████████▋ | 3.52G/4.07G [00:54<00:13, 45.2MB/s]\r 87%|████████▋ | 3.53G/4.07G [00:54<00:13, 45.3MB/s]\r 87%|████████▋ | 3.53G/4.07G [00:54<00:12, 47.6MB/s]\r 87%|████████▋ | 3.54G/4.07G [00:54<00:12, 46.9MB/s]\r 87%|████████▋ | 3.54G/4.07G [00:54<00:12, 47.6MB/s]\r 87%|████████▋ | 3.55G/4.07G [00:55<00:11, 47.3MB/s]\r 87%|████████▋ | 3.55G/4.07G [00:55<00:11, 47.1MB/s]\r 87%|████████▋ | 3.56G/4.07G [00:55<00:11, 48.3MB/s]\r 87%|████████▋ | 3.56G/4.07G [00:55<00:11, 48.9MB/s]\r 88%|████████▊ | 3.57G/4.07G [00:55<00:11, 46.4MB/s]\r 88%|████████▊ | 3.57G/4.07G [00:55<00:11, 47.7MB/s]\r 88%|████████▊ | 3.58G/4.07G [00:55<00:10, 50.7MB/s]\r 88%|████████▊ | 3.59G/4.07G [00:55<00:09, 53.3MB/s]\r 88%|████████▊ | 3.59G/4.07G [00:56<00:10, 47.3MB/s]\r 88%|████████▊ | 3.60G/4.07G [00:56<00:10, 49.7MB/s]\r 88%|████████▊ | 3.60G/4.07G [00:56<00:10, 49.9MB/s]\r 89%|████████▊ | 3.61G/4.07G [00:56<00:10, 49.0MB/s]\r 89%|████████▊ | 3.61G/4.07G [00:56<00:09, 54.3MB/s]\r 89%|████████▉ | 3.62G/4.07G [00:56<00:09, 51.1MB/s]\r 89%|████████▉ | 3.62G/4.07G [00:56<00:09, 49.5MB/s]\r 89%|████████▉ | 3.63G/4.07G [00:56<00:09, 49.8MB/s]\r 89%|████████▉ | 3.64G/4.07G [00:56<00:09, 52.1MB/s]\r 89%|████████▉ | 3.64G/4.07G [00:57<00:08, 54.3MB/s]\r 90%|████████▉ | 3.65G/4.07G [00:57<00:09, 47.6MB/s]\r 90%|████████▉ | 3.66G/4.07G [00:57<00:08, 55.3MB/s]\r 90%|████████▉ | 3.66G/4.07G [00:57<00:08, 52.9MB/s]\r 90%|█████████ | 3.67G/4.07G [00:57<00:08, 51.2MB/s]\r 90%|█████████ | 3.67G/4.07G [00:57<00:08, 49.0MB/s]\r 90%|█████████ | 3.68G/4.07G [00:57<00:08, 49.3MB/s]\r 90%|█████████ | 3.69G/4.07G [00:58<00:08, 49.6MB/s]\r 91%|█████████ | 3.69G/4.07G [00:58<00:08, 47.0MB/s]\r 91%|█████████ | 3.70G/4.07G [00:58<00:07, 52.0MB/s]\r 91%|█████████ | 3.70G/4.07G [00:58<00:08, 44.8MB/s]\r 91%|█████████ | 3.71G/4.07G [00:58<00:08, 45.2MB/s]\r 91%|█████████ | 3.71G/4.07G [00:58<00:08, 44.7MB/s]\r 91%|█████████ | 3.72G/4.07G [00:58<00:08, 44.5MB/s]\r 91%|█████████▏| 3.72G/4.07G [00:58<00:07, 49.1MB/s]\r 92%|█████████▏| 3.73G/4.07G [00:59<00:08, 46.0MB/s]\r 92%|█████████▏| 3.73G/4.07G [00:59<00:08, 44.6MB/s]\r 92%|█████████▏| 3.74G/4.07G [00:59<00:07, 48.3MB/s]\r 92%|█████████▏| 3.74G/4.07G [00:59<00:07, 48.3MB/s]\r 92%|█████████▏| 3.75G/4.07G [00:59<00:06, 53.3MB/s]\r 92%|█████████▏| 3.76G/4.07G [00:59<00:06, 49.0MB/s]\r 92%|█████████▏| 3.76G/4.07G [00:59<00:07, 48.0MB/s]\r 92%|█████████▏| 3.77G/4.07G [00:59<00:07, 47.1MB/s]\r 93%|█████████▎| 3.77G/4.07G [00:59<00:06, 50.2MB/s]\r 93%|█████████▎| 3.78G/4.07G [01:00<00:06, 48.3MB/s]\r 93%|█████████▎| 3.78G/4.07G [01:00<00:06, 49.1MB/s]\r 93%|█████████▎| 3.79G/4.07G [01:00<00:06, 49.8MB/s]\r 93%|█████████▎| 3.79G/4.07G [01:00<00:06, 47.1MB/s]\r 93%|█████████▎| 3.80G/4.07G [01:00<00:05, 50.0MB/s]\r 93%|█████████▎| 3.80G/4.07G [01:00<00:05, 50.2MB/s]\r 93%|█████████▎| 3.81G/4.07G [01:00<00:05, 52.1MB/s]\r 94%|█████████▎| 3.81G/4.07G [01:00<00:05, 49.3MB/s]\r 94%|█████████▎| 3.82G/4.07G [01:00<00:05, 49.1MB/s]\r 94%|█████████▍| 3.82G/4.07G [01:01<00:05, 47.3MB/s]\r 94%|█████████▍| 3.83G/4.07G [01:01<00:05, 48.7MB/s]\r 94%|█████████▍| 3.83G/4.07G [01:01<00:05, 49.3MB/s]\r 94%|█████████▍| 3.84G/4.07G [01:01<00:05, 47.0MB/s]\r 94%|█████████▍| 3.84G/4.07G [01:01<00:04, 50.3MB/s]\r 95%|█████████▍| 3.85G/4.07G [01:01<00:04, 51.6MB/s]\r 95%|█████████▍| 3.86G/4.07G [01:01<00:04, 49.1MB/s]\r 95%|█████████▍| 3.86G/4.07G [01:01<00:04, 51.7MB/s]\r 95%|█████████▍| 3.87G/4.07G [01:02<00:04, 51.4MB/s]\r 95%|█████████▌| 3.87G/4.07G [01:02<00:04, 48.6MB/s]\r 95%|█████████▌| 3.88G/4.07G [01:02<00:04, 45.2MB/s]\r 95%|█████████▌| 3.88G/4.07G [01:02<00:04, 46.5MB/s]\r 95%|█████████▌| 3.89G/4.07G [01:02<00:04, 47.8MB/s]\r 96%|█████████▌| 3.89G/4.07G [01:02<00:04, 48.4MB/s]\r 96%|█████████▌| 3.90G/4.07G [01:02<00:03, 50.1MB/s]\r 96%|█████████▌| 3.90G/4.07G [01:02<00:03, 50.3MB/s]\r 96%|█████████▌| 3.91G/4.07G [01:02<00:03, 49.2MB/s]\r 96%|█████████▌| 3.91G/4.07G [01:03<00:03, 47.9MB/s]\r 96%|█████████▌| 3.92G/4.07G [01:03<00:02, 60.1MB/s]\r 96%|█████████▋| 3.93G/4.07G [01:03<00:02, 54.1MB/s]\r 97%|█████████▋| 3.93G/4.07G [01:03<00:02, 52.7MB/s]\r 97%|█████████▋| 3.94G/4.07G [01:03<00:02, 49.3MB/s]\r 97%|█████████▋| 3.94G/4.07G [01:03<00:02, 50.0MB/s]\r 97%|█████████▋| 3.95G/4.07G [01:03<00:02, 46.3MB/s]\r 97%|█████████▋| 3.95G/4.07G [01:03<00:02, 50.1MB/s]\r 97%|█████████▋| 3.96G/4.07G [01:04<00:02, 51.8MB/s]\r 97%|█████████▋| 3.97G/4.07G [01:04<00:02, 52.5MB/s]\r 97%|█████████▋| 3.97G/4.07G [01:04<00:02, 54.8MB/s]\r 98%|█████████▊| 3.98G/4.07G [01:04<00:01, 52.4MB/s]\r 98%|█████████▊| 3.98G/4.07G [01:04<00:01, 53.9MB/s]\r 98%|█████████▊| 3.99G/4.07G [01:04<00:01, 54.0MB/s]\r 98%|█████████▊| 4.00G/4.07G [01:04<00:01, 52.3MB/s]\r 98%|█████████▊| 4.00G/4.07G [01:04<00:01, 51.9MB/s]\r 98%|█████████▊| 4.01G/4.07G [01:04<00:01, 49.1MB/s]\r 98%|█████████▊| 4.01G/4.07G [01:05<00:01, 48.9MB/s]\r 99%|█████████▊| 4.02G/4.07G [01:05<00:01, 44.6MB/s]\r 99%|█████████▊| 4.02G/4.07G [01:05<00:01, 51.4MB/s]\r 99%|█████████▉| 4.03G/4.07G [01:05<00:00, 55.0MB/s]\r 99%|█████████▉| 4.04G/4.07G [01:05<00:00, 53.0MB/s]\r 99%|█████████▉| 4.04G/4.07G [01:05<00:00, 51.4MB/s]\r 99%|█████████▉| 4.05G/4.07G [01:05<00:00, 50.5MB/s]\r 99%|█████████▉| 4.05G/4.07G [01:05<00:00, 53.7MB/s]\r100%|█████████▉| 4.06G/4.07G [01:06<00:00, 52.3MB/s]\r100%|█████████▉| 4.06G/4.07G [01:06<00:00, 54.6MB/s]\r100%|█████████▉| 4.07G/4.07G [01:06<00:00, 54.4MB/s]\r100%|██████████| 4.07G/4.07G [01:06<00:00, 65.9MB/s]"
     ]
    },
    {
     "output_type": "stream",
     "name": "stdout",
     "output_type": "stream",
     "text": [
      "Extracting files...\n"
     ]
    },
    {
     "output_type": "stream",
     "name": "stderr",
     "output_type": "stream",
     "text": [
      "\n"
     ]
    },
    {
     "output_type": "stream",
     "name": "stdout",
     "output_type": "stream",
     "text": [
      "Path to dataset files: /root/.cache/kagglehub/datasets/yelp-dataset/yelp-dataset/versions/4\n"
     ]
    }
   ],
   "source": [
    "import kagglehub\n",
    "from pyspark.sql import SparkSession\n",
    "from pyspark.sql.functions import col\n",
    "from delta.tables import DeltaTable\n",
    "\n",
    "# Download Yelp dataset from Kaggle\n",
    "path = kagglehub.dataset_download(\"yelp-dataset/yelp-dataset\")\n",
    "print(\"Path to dataset files:\", path)\n",
    "\n",
    "# Initialize Spark session\n",
    "spark = SparkSession.builder.appName(\"YelpDataIngestion\").getOrCreate()\n"
   ]
  },
  {
   "cell_type": "markdown",
   "metadata": {
    "application/vnd.databricks.v1+cell": {
     "cellMetadata": {
      "byteLimit": 2048000,
      "rowLimit": 10000
     },
     "inputWidgets": {},
     "nuid": "831f6813-5296-4587-a64f-81f1b655765c",
     "showTitle": false,
     "tableResultSettingsMap": {},
     "title": ""
    }
   },
   "source": [
    "## Step 3: Create Config Database & Metadata Tables\n",
    "To efficiently manage and track the **Yelp Dataset**, we create a **database (`config_db`)** along with three **Delta tables** to store metadata, ingestion logs, and table properties.\n",
    "\n"
   ]
  },
  {
   "cell_type": "code",
   "execution_count": 0,
   "metadata": {
    "application/vnd.databricks.v1+cell": {
     "cellMetadata": {
      "byteLimit": 2048000,
      "implicitDf": true,
      "rowLimit": 10000
     },
     "inputWidgets": {},
     "nuid": "8633a94e-a1a0-49c0-8975-81849249b90b",
     "showTitle": false,
     "tableResultSettingsMap": {},
     "title": ""
    }
   },
   "outputs": [
    {
     "output_type": "display_data",
     "data": {
      "text/html": [
       "<style scoped>\n",
       "  .table-result-container {\n",
       "    max-height: 300px;\n",
       "    overflow: auto;\n",
       "  }\n",
       "  table, th, td {\n",
       "    border: 1px solid black;\n",
       "    border-collapse: collapse;\n",
       "  }\n",
       "  th, td {\n",
       "    padding: 5px;\n",
       "  }\n",
       "  th {\n",
       "    text-align: left;\n",
       "  }\n",
       "</style><div class='table-result-container'><table class='table-result'><thead style='background-color: white'><tr></tr></thead><tbody></tbody></table></div>"
      ]
     },
     "metadata": {
      "application/vnd.databricks.v1+output": {
       "addedWidgets": {},
       "aggData": [],
       "aggError": "",
       "aggOverflow": false,
       "aggSchema": [],
       "aggSeriesLimitReached": false,
       "aggType": "",
       "arguments": {},
       "columnCustomDisplayInfos": {},
       "data": [],
       "datasetInfos": [],
       "dbfsResultPath": null,
       "isJsonSchema": true,
       "metadata": {},
       "overflow": false,
       "plotOptions": {
        "customPlotOptions": {},
        "displayType": "table",
        "pivotAggregation": null,
        "pivotColumns": null,
        "xColumns": null,
        "yColumns": null
       },
       "removedWidgets": [],
       "schema": [],
       "type": "table"
      }
     },
     "output_type": "display_data"
    }
   ],
   "source": [
    "%sql\n",
    "DROP DATABASE IF EXISTS config_db CASCADE;\n",
    "\n",
    "CREATE DATABASE IF NOT EXISTS config_db;\n",
    "USE config_db;\n",
    "\n",
    "CREATE TABLE IF NOT EXISTS source_metadata (\n",
    "    source_id INT,\n",
    "    source_name STRING,\n",
    "    file_path STRING,\n",
    "    file_format STRING,\n",
    "    ingestion_type STRING,\n",
    "    schedule STRING\n",
    ") USING DELTA;\n",
    "\n",
    "CREATE TABLE IF NOT EXISTS elt_process_log (\n",
    "    log_id INT,\n",
    "    process_name STRING,\n",
    "    target_table STRING,\n",
    "    start_time TIMESTAMP,\n",
    "    end_time TIMESTAMP,\n",
    "    execution_time_seconds DOUBLE,\n",
    "    size STRING,\n",
    "    rows_affected INT,\n",
    "    method_used STRING,\n",
    "    status STRING,\n",
    "    error_message STRING\n",
    ") USING DELTA;\n",
    "\n",
    "CREATE TABLE IF NOT EXISTS table_metadata (\n",
    "    table_id INT,\n",
    "    table_name STRING,\n",
    "    table_type STRING,\n",
    "    description STRING,\n",
    "    storage_format STRING,\n",
    "    partition_columns STRING,\n",
    "    created_at TIMESTAMP\n",
    ") USING DELTA;\n",
    "\n",
    "CREATE TABLE IF NOT EXISTS data_quality_log (\n",
    "    dq_log_id INT,\n",
    "    table_name STRING,\n",
    "    quality_check STRING,\n",
    "    description STRING,\n",
    "    total_rows INT,\n",
    "    passed_rows INT,\n",
    "    failed_rows INT,\n",
    "    check_time TIMESTAMP ,\n",
    "    execution_time_seconds DOUBLE,\n",
    "    status STRING,\n",
    "    error_message STRING\n",
    ") USING DELTA;\n",
    "\n",
    "\n"
   ]
  },
  {
   "cell_type": "markdown",
   "metadata": {
    "application/vnd.databricks.v1+cell": {
     "cellMetadata": {},
     "inputWidgets": {},
     "nuid": "71adc040-290d-44c7-8c80-034f413ae1d5",
     "showTitle": false,
     "tableResultSettingsMap": {},
     "title": ""
    }
   },
   "source": [
    "Metadata Extraction from JSON\n",
    "Initializes Spark and scans dataset directory.\n",
    "Extracts and stores metadata in (config_db.source_metadata)."
   ]
  },
  {
   "cell_type": "markdown",
   "metadata": {
    "application/vnd.databricks.v1+cell": {
     "cellMetadata": {},
     "inputWidgets": {},
     "nuid": "30682c6c-ff47-4898-af2c-23828c133ad4",
     "showTitle": false,
     "tableResultSettingsMap": {},
     "title": ""
    }
   },
   "source": [
    "## Init Source Metadata Extraction from JSON\n",
    "- Initializes Spark and scans dataset directory.\n",
    "- Extracts and stores metadata in (`config_db.source_metadata`)."
   ]
  },
  {
   "cell_type": "code",
   "execution_count": 0,
   "metadata": {
    "application/vnd.databricks.v1+cell": {
     "cellMetadata": {},
     "inputWidgets": {},
     "nuid": "9907c14e-c7ac-45c0-96bd-4977a4b85a0d",
     "showTitle": false,
     "tableResultSettingsMap": {},
     "title": ""
    }
   },
   "outputs": [],
   "source": [
    "import os\n",
    "from pyspark.sql import SparkSession\n",
    "from pyspark.sql.types import StructType, StructField, IntegerType, StringType\n",
    "\n",
    "spark = SparkSession.builder.appName(\"AutoDetectSourceMetadata\").getOrCreate()\n",
    "\n",
    "directory_path = '/root/.cache/kagglehub/datasets/yelp-dataset/yelp-dataset/versions/4/'\n",
    "files = os.listdir(directory_path)\n",
    "metadata_list = []\n",
    "source_id = 1\n",
    "\n",
    "for file in files:\n",
    "    if file.lower().endswith('.json'):\n",
    "        file_path = os.path.join(directory_path, file)\n",
    "        source_name = file.replace(\"yelp_academic_dataset_\", \"\").replace(\".json\", \"\").lower()\n",
    "        metadata_list.append((source_id, source_name, file_path, \"JSON\", \"Batch\", \"Daily 00:00\"))\n",
    "        source_id += 1\n",
    "\n",
    "schema = StructType([\n",
    "    StructField(\"source_id\", IntegerType(), False),\n",
    "    StructField(\"source_name\", StringType(), False),\n",
    "    StructField(\"file_path\", StringType(), False),\n",
    "    StructField(\"file_format\", StringType(), False),\n",
    "    StructField(\"ingestion_type\", StringType(), False),\n",
    "    StructField(\"schedule\", StringType(), False)\n",
    "])\n",
    "\n",
    "metadata_df = spark.createDataFrame(metadata_list, schema=schema)\n",
    "\n",
    "metadata_df = metadata_df.selectExpr(\"source_id\", \"source_name\", \"file_path\", \"file_format\", \"ingestion_type\", \"schedule\")\n",
    "\n",
    "# Enable schema evolution if necessary\n",
    "metadata_df.write.format(\"delta\").mode(\"append\").option(\"mergeSchema\", \"true\").saveAsTable(\"config_db.source_metadata\")\n",
    "\n",
    "print(\"Auto-detected metadata inserted successfully!\")\n"
   ]
  },
  {
   "cell_type": "markdown",
   "metadata": {
    "application/vnd.databricks.v1+cell": {
     "cellMetadata": {},
     "inputWidgets": {},
     "nuid": "a22996a5-f2a8-49a4-909d-c396fbffbacd",
     "showTitle": false,
     "tableResultSettingsMap": {},
     "title": ""
    }
   },
   "source": [
    "## Init Table Metadata \n",
    "-  stores metadata in (`config_db.table_metadata`)."
   ]
  },
  {
   "cell_type": "code",
   "execution_count": 0,
   "metadata": {
    "application/vnd.databricks.v1+cell": {
     "cellMetadata": {
      "byteLimit": 2048000,
      "implicitDf": true,
      "rowLimit": 10000
     },
     "inputWidgets": {},
     "nuid": "f52c260f-8b0f-4f03-91df-d28479615482",
     "showTitle": false,
     "tableResultSettingsMap": {},
     "title": ""
    }
   },
   "outputs": [
    {
     "output_type": "display_data",
     "data": {
      "text/html": [
       "<style scoped>\n",
       "  .table-result-container {\n",
       "    max-height: 300px;\n",
       "    overflow: auto;\n",
       "  }\n",
       "  table, th, td {\n",
       "    border: 1px solid black;\n",
       "    border-collapse: collapse;\n",
       "  }\n",
       "  th, td {\n",
       "    padding: 5px;\n",
       "  }\n",
       "  th {\n",
       "    text-align: left;\n",
       "  }\n",
       "</style><div class='table-result-container'><table class='table-result'><thead style='background-color: white'><tr><th>num_affected_rows</th><th>num_inserted_rows</th></tr></thead><tbody><tr><td>9</td><td>9</td></tr></tbody></table></div>"
      ]
     },
     "metadata": {
      "application/vnd.databricks.v1+output": {
       "addedWidgets": {},
       "aggData": [],
       "aggError": "",
       "aggOverflow": false,
       "aggSchema": [],
       "aggSeriesLimitReached": false,
       "aggType": "",
       "arguments": {},
       "columnCustomDisplayInfos": {},
       "data": [
        [
         9,
         9
        ]
       ],
       "datasetInfos": [],
       "dbfsResultPath": null,
       "isJsonSchema": true,
       "metadata": {},
       "overflow": false,
       "plotOptions": {
        "customPlotOptions": {},
        "displayType": "table",
        "pivotAggregation": null,
        "pivotColumns": null,
        "xColumns": null,
        "yColumns": null
       },
       "removedWidgets": [],
       "schema": [
        {
         "metadata": "{}",
         "name": "num_affected_rows",
         "type": "\"long\""
        },
        {
         "metadata": "{}",
         "name": "num_inserted_rows",
         "type": "\"long\""
        }
       ],
       "type": "table"
      }
     },
     "output_type": "display_data"
    }
   ],
   "source": [
    "%sql\n",
    "INSERT INTO config_db.table_metadata (table_id, table_name, table_type, description, storage_format, partition_columns) VALUES\n",
    "(1, 'dim_business', 'dimension', 'SCD Type 2', 'DELTA', 'business_id'),\n",
    "(2, 'dim_business_attributes', 'dimension', 'SCD Type 2', 'DELTA', 'business_id'),\n",
    "(3, 'dim_business_hours', 'dimension', 'SCD Type 1', 'DELTA', 'business_id'),\n",
    "(4, 'dim_user', 'dimension', '`SCD Type 2', 'DELTA', 'user_id'),\n",
    "(5, 'dim_date', 'dimension', 'Stores calendar date-related data', 'DELTA', 'full_date'),\n",
    "(6, 'fact_review', 'fact', 'Stores user reviews including ratings and feedback', 'DELTA', 'review_date'),\n",
    "(7, 'fact_checkin', 'fact', 'Stores check-in data for businesses', 'DELTA', 'checkin_date'),\n",
    "(8, 'fact_tip', 'fact', 'Stores user tips for businesses', 'DELTA', 'tip_date'),\n",
    "(9, 'datamart_rising_star_businesses', 'datamart', 'SCD Type 3', 'DELTA', 'mom_current_period');"
   ]
  },
  {
   "cell_type": "markdown",
   "metadata": {
    "application/vnd.databricks.v1+cell": {
     "cellMetadata": {},
     "inputWidgets": {},
     "nuid": "76ab65ab-86af-463d-867b-1ce863221ec1",
     "showTitle": false,
     "tableResultSettingsMap": {},
     "title": ""
    }
   },
   "source": [
    "## Clean Up and Backfill If needed"
   ]
  },
  {
   "cell_type": "code",
   "execution_count": 0,
   "metadata": {
    "application/vnd.databricks.v1+cell": {
     "cellMetadata": {
      "byteLimit": 2048000,
      "rowLimit": 10000
     },
     "inputWidgets": {},
     "nuid": "499eb9c4-84f4-418e-b0e0-88fcf8726098",
     "showTitle": false,
     "tableResultSettingsMap": {},
     "title": ""
    }
   },
   "outputs": [
    {
     "output_type": "stream",
     "name": "stdout",
     "output_type": "stream",
     "text": [
      "Initial load not detected. Performing cleanup...\n🗑 Removed directory: dbfs:/user/hive/warehouse/yelp_analytics.db/dim_business\n🗑 Removed directory: dbfs:/user/hive/warehouse/yelp_analytics.db/dim_business_attributes\n🗑 Removed directory: dbfs:/user/hive/warehouse/yelp_analytics.db/dim_business_hours\n🗑 Removed directory: dbfs:/user/hive/warehouse/yelp_analytics.db/dim_user\n🗑 Removed directory: dbfs:/user/hive/warehouse/yelp_analytics.db/dim_date\n🗑 Removed directory: dbfs:/user/hive/warehouse/yelp_analytics.db/fact_review\n🗑 Removed directory: dbfs:/user/hive/warehouse/yelp_analytics.db/fact_checkin\n🗑 Removed directory: dbfs:/user/hive/warehouse/yelp_analytics.db/fact_tip\n🗑 Removed directory: dbfs:/user/hive/warehouse/yelp_analytics.db/datamart_rising_star_businesses\n✅ Initial load: Existing tables and directories cleared.\n"
     ]
    }
   ],
   "source": [
    "from pyspark.sql import SparkSession\n",
    "\n",
    "# Initialize Spark session\n",
    "spark = SparkSession.builder.appName(\"YelpDataCleanup\").getOrCreate()\n",
    "\n",
    "# Check if initial load has been performed\n",
    "initial_load_check = spark.sql(\"\"\"\n",
    "    SELECT COUNT(*) AS count FROM config_db.elt_process_log WHERE process_name LIKE 'Initial Load%'\n",
    "\"\"\").collect()[0][\"count\"]\n",
    "\n",
    "if initial_load_check == 0:\n",
    "    print(\"Initial load not detected. Performing cleanup...\")\n",
    "           \n",
    "\n",
    "    # Cleanup analytics tables dynamically\n",
    "    table_metadata_df = spark.sql(\"SELECT table_name FROM config_db.table_metadata\")\n",
    "    tables = [f\"yelp_analytics.{row.table_name.lower()}\" for row in table_metadata_df.collect()]\n",
    "    paths = [f\"dbfs:/user/hive/warehouse/yelp_analytics.db/{table.split('.')[-1]}\" for table in tables]\n",
    "\n",
    "    for path in paths:\n",
    "        dbutils.fs.rm(path, True)\n",
    "        print(f\"🗑 Removed directory: {path}\")\n",
    "\n",
    "    print(\"✅ Initial load: Existing tables and directories cleared.\")\n",
    "else:\n",
    "    print(\"✅ Initial load already performed. Skipping cleanup.\")\n"
   ]
  }
 ],
 "metadata": {
  "application/vnd.databricks.v1+notebook": {
   "computePreferences": null,
   "dashboards": [],
   "environmentMetadata": {
    "base_environment": "",
    "client": "1"
   },
   "language": "python",
   "notebookMetadata": {
    "mostRecentlyExecutedCommandWithImplicitDF": {
     "commandId": 97386526995995,
     "dataframes": [
      "_sqldf"
     ]
    },
    "pythonIndentUnit": 4
   },
   "notebookName": "YELP  - 0 Init Config & Download",
   "widgets": {}
  }
 },
 "nbformat": 4,
 "nbformat_minor": 0
}
