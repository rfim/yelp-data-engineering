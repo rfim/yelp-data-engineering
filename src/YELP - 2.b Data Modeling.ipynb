{
 "cells": [
  {
   "cell_type": "markdown",
   "metadata": {
    "application/vnd.databricks.v1+cell": {
     "cellMetadata": {
      "byteLimit": 2048000,
      "rowLimit": 10000
     },
     "inputWidgets": {},
     "nuid": "3d9982d9-8b67-4a92-8b9e-3515e430fe37",
     "showTitle": false,
     "tableResultSettingsMap": {},
     "title": ""
    }
   },
   "source": [
    "\n",
    "# Yelp Data Modeling for Rising Star Businesses\n",
    "#\n",
    "\n",
    "## Objective: Identify \"Rising Star\" Businesses\n",
    "- Focus on businesses with significant growth in engagement, positive reviews, and popularity.\n",
    "- A data warehouse enables quick insights:\n",
    "  1. Discover trending businesses.\n",
    "  2. Guide marketing strategies.\n",
    "  3. Provide data-driven insights.\n",
    "\n",
    "\n",
    "## Design Overview\n",
    "- **Star Schema**: Fact (reviews, check-ins, tips) + Dimension (business, user, date) tables.\n",
    "- **Slowly Changing Dimensions (SCD)**: Tracks historical changes.\n",
    "- **Data Mart**: Highlights Rising Star metrics (growth, year-over-year).\n",
    "\n",
    "\n",
    "1. Identify businesses with growing customer interest.\n",
    "2. Support marketing and partnership strategies for trending businesses.\n",
    "3. Provide valuable insights to business owners on factors contributing to their success.\n",
    "\n",
    "<a href=\"https://ibb.co/JwrZrsR8\"><img src=\"https://i.ibb.co/39SKSCyV/star-schema.png\" alt=\"star-schema\" border=\"0\" /></a>\n",
    "\n",
    "\n",
    "To achieve this, the data model is designed using a **Star Schema** approach, utilizing **Fact and Dimension Tables** and incorporating **Slowly Changing Dimensions (SCDs)** for tracking historical changes. The warehouse is built using **Delta Lake**, ensuring reliability and scalability.\n",
    "\n"
   ]
  },
  {
   "cell_type": "markdown",
   "metadata": {
    "application/vnd.databricks.v1+cell": {
     "cellMetadata": {},
     "inputWidgets": {},
     "nuid": "31e7000d-ca5d-459b-9dc4-ed2f600d37d0",
     "showTitle": false,
     "tableResultSettingsMap": {},
     "title": ""
    }
   },
   "source": [
    "## Delta Over Parquet for BI, Why?\n",
    "- **ACID & Real-Time**: Delta supports transactions and quick updates, unlike plain Parquet.\n",
    "- **Schema Evolution**: Adjusts easily to changing data models.\n",
    "- **Time Travel**: Historical snapshots aid auditing and SCD logic.\n",
    "- **High Concurrency**: Handles OLTP-like updates plus OLAP queries seamlessly.\n",
    "![](https://miro.medium.com/v2/resize:fit:1242/format:webp/1*ZQn7kYvHzw_B5qwbCGtE0w.png)"
   ]
  },
  {
   "cell_type": "markdown",
   "metadata": {
    "application/vnd.databricks.v1+cell": {
     "cellMetadata": {},
     "inputWidgets": {},
     "nuid": "1c4f7107-de2f-43ac-b5d4-f42955500f47",
     "showTitle": false,
     "tableResultSettingsMap": {},
     "title": ""
    }
   },
   "source": [
    "## **Yelp Analytics Data Warehouse Setup**\n",
    "\n",
    "### **Creating the Database**\n",
    "\n",
    "1. Ensures a clean workspace for data processing.\n",
    "2. Creates a structured environment for efficient querying.\n"
   ]
  },
  {
   "cell_type": "code",
   "execution_count": 0,
   "metadata": {
    "application/vnd.databricks.v1+cell": {
     "cellMetadata": {
      "byteLimit": 2048000,
      "implicitDf": true,
      "rowLimit": 10000
     },
     "inputWidgets": {},
     "nuid": "7db49e7a-1638-4257-86c1-63f9bec7012c",
     "showTitle": false,
     "tableResultSettingsMap": {},
     "title": ""
    }
   },
   "outputs": [
    {
     "output_type": "display_data",
     "data": {
      "text/html": [
       "<style scoped>\n",
       "  .table-result-container {\n",
       "    max-height: 300px;\n",
       "    overflow: auto;\n",
       "  }\n",
       "  table, th, td {\n",
       "    border: 1px solid black;\n",
       "    border-collapse: collapse;\n",
       "  }\n",
       "  th, td {\n",
       "    padding: 5px;\n",
       "  }\n",
       "  th {\n",
       "    text-align: left;\n",
       "  }\n",
       "</style><div class='table-result-container'><table class='table-result'><thead style='background-color: white'><tr></tr></thead><tbody></tbody></table></div>"
      ]
     },
     "metadata": {
      "application/vnd.databricks.v1+output": {
       "addedWidgets": {},
       "aggData": [],
       "aggError": "",
       "aggOverflow": false,
       "aggSchema": [],
       "aggSeriesLimitReached": false,
       "aggType": "",
       "arguments": {},
       "columnCustomDisplayInfos": {},
       "data": [],
       "datasetInfos": [],
       "dbfsResultPath": null,
       "isJsonSchema": true,
       "metadata": {},
       "overflow": false,
       "plotOptions": {
        "customPlotOptions": {},
        "displayType": "table",
        "pivotAggregation": null,
        "pivotColumns": null,
        "xColumns": null,
        "yColumns": null
       },
       "removedWidgets": [],
       "schema": [],
       "type": "table"
      }
     },
     "output_type": "display_data"
    }
   ],
   "source": [
    "%sql\n",
    "\n",
    "DROP DATABASE IF EXISTS yelp_analytics cascade;\n",
    "-- 1. Create the database and set it as current\n",
    "CREATE DATABASE IF NOT EXISTS yelp_analytics;\n",
    "USE yelp_analytics;\n",
    "\n"
   ]
  },
  {
   "cell_type": "markdown",
   "metadata": {
    "application/vnd.databricks.v1+cell": {
     "cellMetadata": {
      "byteLimit": 2048000,
      "rowLimit": 10000
     },
     "inputWidgets": {},
     "nuid": "f1d6f634-7418-45a1-addf-05ec5d5c38c9",
     "showTitle": false,
     "tableResultSettingsMap": {},
     "title": ""
    }
   },
   "source": [
    "## **Dimension Tables (Descriptive Data)**\n",
    "\n",
    "### **Business Dimension (SCD Type 2)**\n",
    "\n",
    "1. Stores business information.\n",
    "2. **SCD Type 2** ensures historical tracking (effective & expiry dates).\n",
    "3. Helps in trend analysis over time.\n",
    "\n",
    "### User Dimension (SCD Type 2)\n",
    "\n",
    "1. Tracks user engagement.\n",
    "2. Enables analyzing interactions of active and influential users.\n"
   ]
  },
  {
   "cell_type": "code",
   "execution_count": 0,
   "metadata": {
    "application/vnd.databricks.v1+cell": {
     "cellMetadata": {
      "byteLimit": 2048000,
      "implicitDf": true,
      "rowLimit": 10000
     },
     "inputWidgets": {},
     "nuid": "8ab52d4b-bcba-43aa-9ee5-aac3d7470704",
     "showTitle": false,
     "tableResultSettingsMap": {},
     "title": ""
    }
   },
   "outputs": [
    {
     "output_type": "display_data",
     "data": {
      "text/html": [
       "<style scoped>\n",
       "  .table-result-container {\n",
       "    max-height: 300px;\n",
       "    overflow: auto;\n",
       "  }\n",
       "  table, th, td {\n",
       "    border: 1px solid black;\n",
       "    border-collapse: collapse;\n",
       "  }\n",
       "  th, td {\n",
       "    padding: 5px;\n",
       "  }\n",
       "  th {\n",
       "    text-align: left;\n",
       "  }\n",
       "</style><div class='table-result-container'><table class='table-result'><thead style='background-color: white'><tr></tr></thead><tbody></tbody></table></div>"
      ]
     },
     "metadata": {
      "application/vnd.databricks.v1+output": {
       "addedWidgets": {},
       "aggData": [],
       "aggError": "",
       "aggOverflow": false,
       "aggSchema": [],
       "aggSeriesLimitReached": false,
       "aggType": "",
       "arguments": {},
       "columnCustomDisplayInfos": {},
       "data": [],
       "datasetInfos": [],
       "dbfsResultPath": null,
       "isJsonSchema": true,
       "metadata": {},
       "overflow": false,
       "plotOptions": {
        "customPlotOptions": {},
        "displayType": "table",
        "pivotAggregation": null,
        "pivotColumns": null,
        "xColumns": null,
        "yColumns": null
       },
       "removedWidgets": [],
       "schema": [],
       "type": "table"
      }
     },
     "output_type": "display_data"
    }
   ],
   "source": [
    "%sql\n",
    "--------------------------------------------------------\n",
    "-- Dimension Tables\n",
    "--------------------------------------------------------\n",
    "\n",
    "-- Business Dimension (SCD Type 2)\n",
    "CREATE TABLE IF NOT EXISTS dim_business (\n",
    "    business_id STRING,\n",
    "    name STRING,\n",
    "    address STRING,\n",
    "    city STRING,\n",
    "    state STRING,\n",
    "    postal_code STRING,\n",
    "    latitude DOUBLE,\n",
    "    longitude DOUBLE,\n",
    "    is_open BOOLEAN,\n",
    "    categories STRING,\n",
    "    review_count INT,\n",
    "    stars DOUBLE,\n",
    "    -- SCD Type 2 columns for tracking history\n",
    "    effective_date DATE,\n",
    "    expiry_date DATE,\n",
    "    current_flag BOOLEAN\n",
    ")\n",
    "USING DELTA;\n",
    "\n",
    "\n",
    "-- User Dimension (SCD Type 2)\n",
    "CREATE TABLE IF NOT EXISTS dim_user (\n",
    "    user_id STRING,\n",
    "    name STRING,\n",
    "    yelping_since DATE,\n",
    "    review_count INT,\n",
    "    average_stars DOUBLE,\n",
    "    fans INT,\n",
    "    cool INT,\n",
    "    funny INT,\n",
    "    useful INT,\n",
    "    elite STRING,\n",
    "    -- SCD Type 2 columns\n",
    "    effective_date DATE,\n",
    "    expiry_date DATE,\n",
    "    current_flag BOOLEAN\n",
    ")\n",
    "USING DELTA;\n",
    "\n",
    "\n"
   ]
  },
  {
   "cell_type": "markdown",
   "metadata": {
    "application/vnd.databricks.v1+cell": {
     "cellMetadata": {},
     "inputWidgets": {},
     "nuid": "d8b1079c-3f4e-47e9-9309-e206134a068a",
     "showTitle": false,
     "tableResultSettingsMap": {},
     "title": ""
    }
   },
   "source": [
    "### **Date Dimension**\n",
    "\n",
    "1. Standardizes date-based analytics.\n",
    "2. Supports time-series comparisons.\n",
    "3. Create Python script to init it."
   ]
  },
  {
   "cell_type": "code",
   "execution_count": 0,
   "metadata": {
    "application/vnd.databricks.v1+cell": {
     "cellMetadata": {
      "byteLimit": 2048000,
      "implicitDf": true,
      "rowLimit": 10000
     },
     "inputWidgets": {},
     "nuid": "99842682-d094-43a7-835b-52cb3dbc4bea",
     "showTitle": false,
     "tableResultSettingsMap": {},
     "title": ""
    }
   },
   "outputs": [
    {
     "output_type": "display_data",
     "data": {
      "text/html": [
       "<style scoped>\n",
       "  .table-result-container {\n",
       "    max-height: 300px;\n",
       "    overflow: auto;\n",
       "  }\n",
       "  table, th, td {\n",
       "    border: 1px solid black;\n",
       "    border-collapse: collapse;\n",
       "  }\n",
       "  th, td {\n",
       "    padding: 5px;\n",
       "  }\n",
       "  th {\n",
       "    text-align: left;\n",
       "  }\n",
       "</style><div class='table-result-container'><table class='table-result'><thead style='background-color: white'><tr></tr></thead><tbody></tbody></table></div>"
      ]
     },
     "metadata": {
      "application/vnd.databricks.v1+output": {
       "addedWidgets": {},
       "aggData": [],
       "aggError": "",
       "aggOverflow": false,
       "aggSchema": [],
       "aggSeriesLimitReached": false,
       "aggType": "",
       "arguments": {},
       "columnCustomDisplayInfos": {},
       "data": [],
       "datasetInfos": [],
       "dbfsResultPath": null,
       "isJsonSchema": true,
       "metadata": {},
       "overflow": false,
       "plotOptions": {
        "customPlotOptions": {},
        "displayType": "table",
        "pivotAggregation": null,
        "pivotColumns": null,
        "xColumns": null,
        "yColumns": null
       },
       "removedWidgets": [],
       "schema": [],
       "type": "table"
      }
     },
     "output_type": "display_data"
    }
   ],
   "source": [
    "%sql\n",
    "-- Date Dimension (Static)\n",
    "CREATE TABLE IF NOT EXISTS dim_date (\n",
    "    full_date DATE,\n",
    "    year INT,\n",
    "    quarter INT,\n",
    "    month INT,\n",
    "    week INT,\n",
    "    day INT,\n",
    "    day_of_week INT\n",
    ")\n",
    "USING DELTA;"
   ]
  },
  {
   "cell_type": "code",
   "execution_count": 0,
   "metadata": {
    "application/vnd.databricks.v1+cell": {
     "cellMetadata": {
      "byteLimit": 2048000,
      "rowLimit": 10000
     },
     "inputWidgets": {},
     "nuid": "3db2ee97-c0da-4c5e-9413-28320074ed89",
     "showTitle": false,
     "tableResultSettingsMap": {},
     "title": ""
    }
   },
   "outputs": [],
   "source": [
    "from pyspark.sql import SparkSession\n",
    "from pyspark.sql.functions import explode, sequence, to_date, col, year, quarter, month, weekofyear, dayofmonth, dayofweek\n",
    "\n",
    "# Initialize Spark session\n",
    "spark = SparkSession.builder.getOrCreate()\n",
    "\n",
    "# Define start and end dates for the date dimension\n",
    "start_date = \"2000-01-01\"\n",
    "end_date = \"2030-12-31\"\n",
    "\n",
    "# Create a DataFrame with a sequence of dates\n",
    "date_df = spark.sql(f\"\"\"\n",
    "    SELECT explode(sequence(to_date('{start_date}'), to_date('{end_date}'), interval 1 day)) as full_date\n",
    "\"\"\")\n",
    "\n",
    "# Add additional date parts\n",
    "date_dim = date_df.withColumn(\"year\", year(col(\"full_date\"))) \\\n",
    "    .withColumn(\"quarter\", quarter(col(\"full_date\"))) \\\n",
    "    .withColumn(\"month\", month(col(\"full_date\"))) \\\n",
    "    .withColumn(\"week\", weekofyear(col(\"full_date\"))) \\\n",
    "    .withColumn(\"day\", dayofmonth(col(\"full_date\"))) \\\n",
    "    .withColumn(\"day_of_week\", dayofweek(col(\"full_date\")))\n",
    "\n",
    "# Write the DataFrame as a Delta table\n",
    "date_dim.write.format(\"delta\").mode(\"overwrite\").saveAsTable(\"dim_date\")\n"
   ]
  },
  {
   "cell_type": "markdown",
   "metadata": {
    "application/vnd.databricks.v1+cell": {
     "cellMetadata": {
      "byteLimit": 2048000,
      "rowLimit": 10000
     },
     "inputWidgets": {},
     "nuid": "2109f41e-2591-4d67-93a6-280ac1b7738e",
     "showTitle": false,
     "tableResultSettingsMap": {},
     "title": ""
    }
   },
   "source": [
    "## **act Tables (Transactional Data)**\n",
    "\n",
    "### **Reviews Fact Table**\n",
    "\n",
    "1. Captures user reviews.\n",
    "2. Links to `dim_user` and `dim_business`.\n",
    "\n",
    "### **Check-ins Fact Table**\n",
    "\n",
    "1. Tracks customer visits to businesses.\n",
    "2. Helps identify high-traffic businesses.\n",
    "\n",
    "### **Tips Fact Table**\n",
    "\n",
    "1. Stores user tips and recommendations.\n",
    "\n",
    "---"
   ]
  },
  {
   "cell_type": "code",
   "execution_count": 0,
   "metadata": {
    "application/vnd.databricks.v1+cell": {
     "cellMetadata": {
      "byteLimit": 2048000,
      "implicitDf": true,
      "rowLimit": 10000
     },
     "inputWidgets": {},
     "nuid": "a7b55b2f-3998-45df-a69b-aa09a2c9d7f8",
     "showTitle": false,
     "tableResultSettingsMap": {},
     "title": ""
    }
   },
   "outputs": [
    {
     "output_type": "display_data",
     "data": {
      "text/html": [
       "<style scoped>\n",
       "  .table-result-container {\n",
       "    max-height: 300px;\n",
       "    overflow: auto;\n",
       "  }\n",
       "  table, th, td {\n",
       "    border: 1px solid black;\n",
       "    border-collapse: collapse;\n",
       "  }\n",
       "  th, td {\n",
       "    padding: 5px;\n",
       "  }\n",
       "  th {\n",
       "    text-align: left;\n",
       "  }\n",
       "</style><div class='table-result-container'><table class='table-result'><thead style='background-color: white'><tr></tr></thead><tbody></tbody></table></div>"
      ]
     },
     "metadata": {
      "application/vnd.databricks.v1+output": {
       "addedWidgets": {},
       "aggData": [],
       "aggError": "",
       "aggOverflow": false,
       "aggSchema": [],
       "aggSeriesLimitReached": false,
       "aggType": "",
       "arguments": {},
       "columnCustomDisplayInfos": {},
       "data": [],
       "datasetInfos": [],
       "dbfsResultPath": null,
       "isJsonSchema": true,
       "metadata": {},
       "overflow": false,
       "plotOptions": {
        "customPlotOptions": {},
        "displayType": "table",
        "pivotAggregation": null,
        "pivotColumns": null,
        "xColumns": null,
        "yColumns": null
       },
       "removedWidgets": [],
       "schema": [],
       "type": "table"
      }
     },
     "output_type": "display_data"
    }
   ],
   "source": [
    "%sql\n",
    "\n",
    "--------------------------------------------------------\n",
    "-- Fact Tables\n",
    "--------------------------------------------------------\n",
    "\n",
    "-- Review Fact Table\n",
    "CREATE TABLE IF NOT EXISTS fact_review (\n",
    "    review_id STRING,\n",
    "    business_id STRING,\n",
    "    user_id STRING,\n",
    "    review_date DATE,\n",
    "    stars DOUBLE,\n",
    "    cool INT,\n",
    "    funny INT,\n",
    "    useful INT\n",
    ")\n",
    "USING DELTA;\n",
    "\n",
    "-- Check-in Fact Table\n",
    "CREATE TABLE IF NOT EXISTS fact_checkin (\n",
    "    business_id STRING,\n",
    "    checkin_date DATE\n",
    ")\n",
    "USING DELTA;\n",
    "\n",
    "-- Tip Fact Table\n",
    "CREATE TABLE IF NOT EXISTS fact_tip (\n",
    "    business_id STRING,\n",
    "    user_id STRING,\n",
    "    tip_date DATE,\n",
    "    text STRING,\n",
    "    compliment_count INT\n",
    ")\n",
    "USING DELTA;\n"
   ]
  },
  {
   "cell_type": "markdown",
   "metadata": {
    "application/vnd.databricks.v1+cell": {
     "cellMetadata": {
      "byteLimit": 2048000,
      "rowLimit": 10000
     },
     "inputWidgets": {},
     "nuid": "fbf8e69e-2247-45b6-aedf-e5a56beaa75e",
     "showTitle": false,
     "tableResultSettingsMap": {},
     "title": ""
    }
   },
   "source": [
    "## **Data Mart: Rising Star Businesses**\n",
    "### **Rising Star Businesses Data Mart (SCD Type 3)**\n",
    "\n",
    "1. **Tracks business growth over time** (`review_growth`).\n",
    "2. **Month-over-month (MoM) comparison** enables early identification of trending businesses.\n",
    "3. Uses **SCD Type 3** to retain historical YoY performance.\n",
    "\n"
   ]
  },
  {
   "cell_type": "code",
   "execution_count": 0,
   "metadata": {
    "application/vnd.databricks.v1+cell": {
     "cellMetadata": {
      "byteLimit": 2048000,
      "implicitDf": true,
      "rowLimit": 10000
     },
     "inputWidgets": {},
     "nuid": "bef15e50-c50a-4d5f-a243-50e8902a648a",
     "showTitle": false,
     "tableResultSettingsMap": {},
     "title": ""
    }
   },
   "outputs": [
    {
     "output_type": "display_data",
     "data": {
      "text/html": [
       "<style scoped>\n",
       "  .table-result-container {\n",
       "    max-height: 300px;\n",
       "    overflow: auto;\n",
       "  }\n",
       "  table, th, td {\n",
       "    border: 1px solid black;\n",
       "    border-collapse: collapse;\n",
       "  }\n",
       "  th, td {\n",
       "    padding: 5px;\n",
       "  }\n",
       "  th {\n",
       "    text-align: left;\n",
       "  }\n",
       "</style><div class='table-result-container'><table class='table-result'><thead style='background-color: white'><tr></tr></thead><tbody></tbody></table></div>"
      ]
     },
     "metadata": {
      "application/vnd.databricks.v1+output": {
       "addedWidgets": {},
       "aggData": [],
       "aggError": "",
       "aggOverflow": false,
       "aggSchema": [],
       "aggSeriesLimitReached": false,
       "aggType": "",
       "arguments": {},
       "columnCustomDisplayInfos": {},
       "data": [],
       "datasetInfos": [],
       "dbfsResultPath": null,
       "isJsonSchema": true,
       "metadata": {},
       "overflow": false,
       "plotOptions": {
        "customPlotOptions": {},
        "displayType": "table",
        "pivotAggregation": null,
        "pivotColumns": null,
        "xColumns": null,
        "yColumns": null
       },
       "removedWidgets": [],
       "schema": [],
       "type": "table"
      }
     },
     "output_type": "display_data"
    }
   ],
   "source": [
    "%sql\n",
    "USE yelp_analytics;\n",
    "\n",
    "CREATE TABLE IF NOT EXISTS datamart_rising_star_businesses (\n",
    "    business_id STRING,\n",
    "    name STRING,\n",
    "\n",
    "    -- Period type for comparisons, now only YoY is considered\n",
    "    period_type STRING,  -- Expected value: 'YoY'\n",
    "    \n",
    "    -- Period columns for comparisons\n",
    "    current_period DATE,      \n",
    "    previous_period DATE,    \n",
    "    \n",
    "    -- Label column for storing rising star labels (YoY only)\n",
    "    rising_star_labels ARRAY<STRING>,  \n",
    "    \n",
    "    -- Current metrics from the latest load:\n",
    "    current_review_count INT,   \n",
    "    current_avg_stars DOUBLE,   \n",
    "    current_rating_improvement DOUBLE,  \n",
    "    \n",
    "    -- Prior (historical) metrics (SCD Type 3)\n",
    "    prior_review_count INT,     \n",
    "    prior_avg_stars DOUBLE,     \n",
    "    prior_rating_improvement DOUBLE,\n",
    "    \n",
    "    last_update_date DATE       \n",
    ")\n",
    "USING DELTA;\n"
   ]
  }
 ],
 "metadata": {
  "application/vnd.databricks.v1+notebook": {
   "computePreferences": null,
   "dashboards": [],
   "environmentMetadata": {
    "base_environment": "",
    "client": "1"
   },
   "language": "python",
   "notebookMetadata": {
    "mostRecentlyExecutedCommandWithImplicitDF": {
     "commandId": 1393796698942505,
     "dataframes": [
      "_sqldf"
     ]
    },
    "pythonIndentUnit": 4
   },
   "notebookName": "YELP - 2.b Data Modeling",
   "widgets": {}
  }
 },
 "nbformat": 4,
 "nbformat_minor": 0
}
